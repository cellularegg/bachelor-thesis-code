{
 "cells": [
  {
   "cell_type": "code",
   "execution_count": 1,
   "metadata": {
    "collapsed": true,
    "pycharm": {
     "name": "#%%\n"
    }
   },
   "outputs": [],
   "source": [
    "\n",
    "from tqdm.notebook import tqdm\n",
    "import matplotlib.pyplot as plt\n",
    "import numpy as np\n",
    "import pandas as pd\n",
    "# from IPython.core.display_functions import display\n",
    "import sklearn.metrics as metrics\n",
    "import multiprocessing as mp\n",
    "\n",
    "random_seed = 1\n",
    "np.random.seed(random_seed)\n"
   ]
  },
  {
   "cell_type": "code",
   "execution_count": 2,
   "outputs": [],
   "source": [
    "plt.style.use('seaborn-colorblind')\n",
    "\n",
    "# from https://jwalton.info/Embed-Publication-Matplotlib-Latex/\n",
    "tex_fonts = {\n",
    "    # Use LaTeX to write all text\n",
    "    \"text.usetex\": True,\n",
    "    \"font.family\": \"serif\",\n",
    "    # Use 11pt font in plots, to match 11pt font in document\n",
    "    \"axes.labelsize\": 11,\n",
    "    \"font.size\": 11\n",
    "}\n",
    "plt.rcParams.update(tex_fonts)\n",
    "# tex_plots_path = f'../bachelor-thesis/plots/pdfs/{common_id}/'\n"
   ],
   "metadata": {
    "collapsed": false,
    "pycharm": {
     "name": "#%%\n"
    }
   }
  },
  {
   "cell_type": "code",
   "execution_count": 3,
   "outputs": [],
   "source": [
    "import glob\n",
    "\n",
    "file_list = glob.glob('./data/predictions/raw_preprocessed/**/*.parquet', recursive=True)\n",
    "\n",
    "predictions = []\n",
    "\n",
    "for fp in file_list:\n",
    "    file_name = fp.split('/')[-1]\n",
    "    metadata = file_name.split('_')\n",
    "    # remove .parquet\n",
    "    metadata = [m.split('.')[0] for m in metadata]\n",
    "    # df = pd.read_parquet(fp)\n",
    "    metadata_dict = {\n",
    "        'file_path': fp,\n",
    "        'normalized': fp.split('/')[-3] == 'normalized',\n",
    "        'window_size': None if metadata[0] == 'None' else int(metadata[0]),\n",
    "        'center_window': metadata[1] == 'cw',\n",
    "        'model_type': metadata[2],\n",
    "        'common_id': fp.split('/')[-2]\n",
    "    }\n",
    "    predictions.append(metadata_dict)"
   ],
   "metadata": {
    "collapsed": false,
    "pycharm": {
     "name": "#%%\n"
    }
   }
  },
  {
   "cell_type": "code",
   "execution_count": 4,
   "outputs": [
    {
     "data": {
      "text/plain": "5000"
     },
     "execution_count": 4,
     "metadata": {},
     "output_type": "execute_result"
    }
   ],
   "source": [
    "len(predictions)\n"
   ],
   "metadata": {
    "collapsed": false,
    "pycharm": {
     "name": "#%%\n"
    }
   }
  },
  {
   "cell_type": "code",
   "execution_count": 5,
   "outputs": [],
   "source": [
    "def get_prediction_summary(metadata_dict):\n",
    "    predictions_summary = []\n",
    "    pred_df = pd.read_parquet(metadata_dict['file_path'])\n",
    "    threshold_min = 1\n",
    "    threshold_max = 100\n",
    "    threshold_steps = 300\n",
    "    thresholds = np.linspace(threshold_min, threshold_max, threshold_steps)\n",
    "    y_true = pred_df['is_outlier'].astype(int).to_numpy()\n",
    "    m = pred_df['result'].to_numpy()\n",
    "    for threshold in thresholds:\n",
    "        y_pred = np.where(m > threshold, 1, 0)\n",
    "        tn, fp, fn, tp = metrics.confusion_matrix(y_true, y_pred).ravel()\n",
    "        f1_score = metrics.f1_score(y_true, y_pred, zero_division=0)\n",
    "\n",
    "        predictions_summary.append({\n",
    "            'common_id': metadata_dict['common_id'],\n",
    "            'window_size': metadata_dict['window_size'],\n",
    "            'center_window': metadata_dict['center_window'],\n",
    "            'model_type': metadata_dict['model_type'],\n",
    "            'normalized': metadata_dict['normalized'],\n",
    "            'threshold': threshold,\n",
    "            'f1_score': f1_score,\n",
    "            'tn': tn,\n",
    "            'fp': fp,\n",
    "            'fn': fn,\n",
    "            'tp': tp,\n",
    "        })\n",
    "    return predictions_summary\n",
    "# predictions_summary_df = pd.DataFrame(predictions_summary)\n",
    "# predictions_summary_df.info()"
   ],
   "metadata": {
    "collapsed": false,
    "pycharm": {
     "name": "#%%\n"
    }
   }
  },
  {
   "cell_type": "code",
   "execution_count": 6,
   "outputs": [],
   "source": [
    "with mp.Pool(processes=12) as executor:\n",
    "    results = executor.map(get_prediction_summary, predictions)\n",
    "    result_lst = [item for sublist in results for item in sublist]\n"
   ],
   "metadata": {
    "collapsed": false,
    "pycharm": {
     "name": "#%%\n"
    }
   }
  },
  {
   "cell_type": "code",
   "execution_count": 7,
   "outputs": [],
   "source": [
    "predictions_summary_df = pd.DataFrame(result_lst)"
   ],
   "metadata": {
    "collapsed": false,
    "pycharm": {
     "name": "#%%\n"
    }
   }
  },
  {
   "cell_type": "code",
   "execution_count": 8,
   "outputs": [
    {
     "data": {
      "text/plain": "             common_id  window_size  center_window   model_type  normalized  \\\n0              2386-ch          2.0          False  mad-z-score       False   \n1              2386-ch          2.0          False  mad-z-score       False   \n2              2386-ch          2.0          False  mad-z-score       False   \n3              2386-ch          2.0          False  mad-z-score       False   \n4              2386-ch          2.0          False  mad-z-score       False   \n...                ...          ...            ...          ...         ...   \n1499995  2720050000-de         31.0          False      z-score        True   \n1499996  2720050000-de         31.0          False      z-score        True   \n1499997  2720050000-de         31.0          False      z-score        True   \n1499998  2720050000-de         31.0          False      z-score        True   \n1499999  2720050000-de         31.0          False      z-score        True   \n\n          threshold  f1_score     tn  fp   fn  tp  \n0          1.000000       0.0  50467   0  102   0  \n1          1.331104       0.0  50467   0  102   0  \n2          1.662207       0.0  50467   0  102   0  \n3          1.993311       0.0  50467   0  102   0  \n4          2.324415       0.0  50467   0  102   0  \n...             ...       ...    ...  ..  ...  ..  \n1499995   98.675585       0.0  49445   7   59   0  \n1499996   99.006689       0.0  49445   7   59   0  \n1499997   99.337793       0.0  49445   7   59   0  \n1499998   99.668896       0.0  49445   7   59   0  \n1499999  100.000000       0.0  49445   7   59   0  \n\n[1500000 rows x 11 columns]",
      "text/html": "<div>\n<style scoped>\n    .dataframe tbody tr th:only-of-type {\n        vertical-align: middle;\n    }\n\n    .dataframe tbody tr th {\n        vertical-align: top;\n    }\n\n    .dataframe thead th {\n        text-align: right;\n    }\n</style>\n<table border=\"1\" class=\"dataframe\">\n  <thead>\n    <tr style=\"text-align: right;\">\n      <th></th>\n      <th>common_id</th>\n      <th>window_size</th>\n      <th>center_window</th>\n      <th>model_type</th>\n      <th>normalized</th>\n      <th>threshold</th>\n      <th>f1_score</th>\n      <th>tn</th>\n      <th>fp</th>\n      <th>fn</th>\n      <th>tp</th>\n    </tr>\n  </thead>\n  <tbody>\n    <tr>\n      <th>0</th>\n      <td>2386-ch</td>\n      <td>2.0</td>\n      <td>False</td>\n      <td>mad-z-score</td>\n      <td>False</td>\n      <td>1.000000</td>\n      <td>0.0</td>\n      <td>50467</td>\n      <td>0</td>\n      <td>102</td>\n      <td>0</td>\n    </tr>\n    <tr>\n      <th>1</th>\n      <td>2386-ch</td>\n      <td>2.0</td>\n      <td>False</td>\n      <td>mad-z-score</td>\n      <td>False</td>\n      <td>1.331104</td>\n      <td>0.0</td>\n      <td>50467</td>\n      <td>0</td>\n      <td>102</td>\n      <td>0</td>\n    </tr>\n    <tr>\n      <th>2</th>\n      <td>2386-ch</td>\n      <td>2.0</td>\n      <td>False</td>\n      <td>mad-z-score</td>\n      <td>False</td>\n      <td>1.662207</td>\n      <td>0.0</td>\n      <td>50467</td>\n      <td>0</td>\n      <td>102</td>\n      <td>0</td>\n    </tr>\n    <tr>\n      <th>3</th>\n      <td>2386-ch</td>\n      <td>2.0</td>\n      <td>False</td>\n      <td>mad-z-score</td>\n      <td>False</td>\n      <td>1.993311</td>\n      <td>0.0</td>\n      <td>50467</td>\n      <td>0</td>\n      <td>102</td>\n      <td>0</td>\n    </tr>\n    <tr>\n      <th>4</th>\n      <td>2386-ch</td>\n      <td>2.0</td>\n      <td>False</td>\n      <td>mad-z-score</td>\n      <td>False</td>\n      <td>2.324415</td>\n      <td>0.0</td>\n      <td>50467</td>\n      <td>0</td>\n      <td>102</td>\n      <td>0</td>\n    </tr>\n    <tr>\n      <th>...</th>\n      <td>...</td>\n      <td>...</td>\n      <td>...</td>\n      <td>...</td>\n      <td>...</td>\n      <td>...</td>\n      <td>...</td>\n      <td>...</td>\n      <td>...</td>\n      <td>...</td>\n      <td>...</td>\n    </tr>\n    <tr>\n      <th>1499995</th>\n      <td>2720050000-de</td>\n      <td>31.0</td>\n      <td>False</td>\n      <td>z-score</td>\n      <td>True</td>\n      <td>98.675585</td>\n      <td>0.0</td>\n      <td>49445</td>\n      <td>7</td>\n      <td>59</td>\n      <td>0</td>\n    </tr>\n    <tr>\n      <th>1499996</th>\n      <td>2720050000-de</td>\n      <td>31.0</td>\n      <td>False</td>\n      <td>z-score</td>\n      <td>True</td>\n      <td>99.006689</td>\n      <td>0.0</td>\n      <td>49445</td>\n      <td>7</td>\n      <td>59</td>\n      <td>0</td>\n    </tr>\n    <tr>\n      <th>1499997</th>\n      <td>2720050000-de</td>\n      <td>31.0</td>\n      <td>False</td>\n      <td>z-score</td>\n      <td>True</td>\n      <td>99.337793</td>\n      <td>0.0</td>\n      <td>49445</td>\n      <td>7</td>\n      <td>59</td>\n      <td>0</td>\n    </tr>\n    <tr>\n      <th>1499998</th>\n      <td>2720050000-de</td>\n      <td>31.0</td>\n      <td>False</td>\n      <td>z-score</td>\n      <td>True</td>\n      <td>99.668896</td>\n      <td>0.0</td>\n      <td>49445</td>\n      <td>7</td>\n      <td>59</td>\n      <td>0</td>\n    </tr>\n    <tr>\n      <th>1499999</th>\n      <td>2720050000-de</td>\n      <td>31.0</td>\n      <td>False</td>\n      <td>z-score</td>\n      <td>True</td>\n      <td>100.000000</td>\n      <td>0.0</td>\n      <td>49445</td>\n      <td>7</td>\n      <td>59</td>\n      <td>0</td>\n    </tr>\n  </tbody>\n</table>\n<p>1500000 rows × 11 columns</p>\n</div>"
     },
     "execution_count": 8,
     "metadata": {},
     "output_type": "execute_result"
    }
   ],
   "source": [
    "predictions_summary_df"
   ],
   "metadata": {
    "collapsed": false,
    "pycharm": {
     "name": "#%%\n"
    }
   }
  },
  {
   "cell_type": "code",
   "execution_count": 9,
   "outputs": [
    {
     "name": "stdout",
     "output_type": "stream",
     "text": [
      "<class 'pandas.core.frame.DataFrame'>\n",
      "RangeIndex: 1500000 entries, 0 to 1499999\n",
      "Data columns (total 11 columns):\n",
      " #   Column         Non-Null Count    Dtype  \n",
      "---  ------         --------------    -----  \n",
      " 0   common_id      1500000 non-null  object \n",
      " 1   window_size    1470000 non-null  float64\n",
      " 2   center_window  1500000 non-null  bool   \n",
      " 3   model_type     1500000 non-null  object \n",
      " 4   normalized     1500000 non-null  bool   \n",
      " 5   threshold      1500000 non-null  float64\n",
      " 6   f1_score       1500000 non-null  float64\n",
      " 7   tn             1500000 non-null  int64  \n",
      " 8   fp             1500000 non-null  int64  \n",
      " 9   fn             1500000 non-null  int64  \n",
      " 10  tp             1500000 non-null  int64  \n",
      "dtypes: bool(2), float64(3), int64(4), object(2)\n",
      "memory usage: 105.9+ MB\n"
     ]
    }
   ],
   "source": [
    "predictions_summary_df.info()"
   ],
   "metadata": {
    "collapsed": false,
    "pycharm": {
     "name": "#%%\n"
    }
   }
  },
  {
   "cell_type": "code",
   "execution_count": 10,
   "outputs": [],
   "source": [
    "predictions_summary_df.to_parquet(f'./data/predictions/predictions_preprocessed_summary.parquet')"
   ],
   "metadata": {
    "collapsed": false,
    "pycharm": {
     "name": "#%%\n"
    }
   }
  },
  {
   "cell_type": "code",
   "execution_count": 12,
   "outputs": [
    {
     "name": "stdout",
     "output_type": "stream",
     "text": [
      "2386-ch\n",
      "39003-ie\n",
      "36022-ie\n",
      "42960105-de\n",
      "2720050000-de\n"
     ]
    }
   ],
   "source": [
    "for id in predictions_summary_df['common_id'].unique():\n",
    "    print(id)\n",
    "    df = predictions_summary_df[predictions_summary_df['common_id'] == id]\n",
    "    df.to_csv(f'./data/predictions/predictions_preprocessed_summary/{id}.csv', index=False)"
   ],
   "metadata": {
    "collapsed": false,
    "pycharm": {
     "name": "#%%\n"
    }
   }
  }
 ],
 "metadata": {
  "kernelspec": {
   "display_name": "Python 3",
   "language": "python",
   "name": "python3"
  },
  "language_info": {
   "codemirror_mode": {
    "name": "ipython",
    "version": 2
   },
   "file_extension": ".py",
   "mimetype": "text/x-python",
   "name": "python",
   "nbconvert_exporter": "python",
   "pygments_lexer": "ipython2",
   "version": "2.7.6"
  }
 },
 "nbformat": 4,
 "nbformat_minor": 0
}