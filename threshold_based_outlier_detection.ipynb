{
 "cells": [
  {
   "cell_type": "code",
   "execution_count": 1,
   "metadata": {
    "collapsed": true,
    "pycharm": {
     "name": "#%%\n"
    }
   },
   "outputs": [],
   "source": [
    "import matplotlib.pyplot as plt\n",
    "import numpy as np\n",
    "import pandas as pd\n",
    "from sklearn import preprocessing\n",
    "from tqdm.notebook import tqdm\n",
    "\n",
    "random_seed = 1\n",
    "np.random.seed(random_seed)\n"
   ]
  },
  {
   "cell_type": "code",
   "execution_count": 2,
   "outputs": [],
   "source": [
    "# from https://jwalton.info/Matplotlib-latex-PGF/\n",
    "def set_size(width, fraction=1, subplots=(1, 1)):\n",
    "    \"\"\"Set figure dimensions to avoid scaling in LaTeX.\n",
    "\n",
    "    Parameters\n",
    "    ----------\n",
    "    width: float or string\n",
    "            Document width in points, or string of predined document type\n",
    "    fraction: float, optional\n",
    "            Fraction of the width which you wish the figure to occupy\n",
    "    subplots: array-like, optional\n",
    "            The number of rows and columns of subplots.\n",
    "    Returns\n",
    "    -------\n",
    "    fig_dim: tuple\n",
    "            Dimensions of figure in inches\n",
    "    \"\"\"\n",
    "    if width == 'thesis':\n",
    "        width_pt = 426.79135\n",
    "    elif width == 'beamer':\n",
    "        width_pt = 307.28987\n",
    "    else:\n",
    "        width_pt = width\n",
    "\n",
    "    # Width of figure (in pts)\n",
    "    fig_width_pt = width_pt * fraction\n",
    "    # Convert from pt to inches\n",
    "    inches_per_pt = 1 / 72.27\n",
    "\n",
    "    # Golden ratio to set aesthetic figure height\n",
    "    # https://disq.us/p/2940ij3\n",
    "    golden_ratio = (5 ** .5 - 1) / 2\n",
    "\n",
    "    # Figure width in inches\n",
    "    fig_width_in = fig_width_pt * inches_per_pt\n",
    "    # Figure height in inches\n",
    "    fig_height_in = fig_width_in * golden_ratio * (subplots[0] / subplots[1])\n",
    "\n",
    "    return (fig_width_in, fig_height_in)"
   ],
   "metadata": {
    "collapsed": false,
    "pycharm": {
     "name": "#%%\n"
    }
   }
  },
  {
   "cell_type": "code",
   "execution_count": 3,
   "outputs": [],
   "source": [
    "# Width of the LaTeX document\n",
    "width = 364\n",
    "\n",
    "plt.style.use('seaborn-colorblind')\n",
    "\n",
    "tex_fonts = {\n",
    "    # Use LaTeX to write all text\n",
    "    \"text.usetex\": True,\n",
    "    \"font.family\": \"serif\",\n",
    "    # Use 11pt font in plots, to match 11pt font in document\n",
    "    \"axes.labelsize\": 11,\n",
    "    \"font.size\": 11\n",
    "}\n",
    "plt.rcParams.update(tex_fonts)\n"
   ],
   "metadata": {
    "collapsed": false,
    "pycharm": {
     "name": "#%%\n"
    }
   }
  },
  {
   "cell_type": "code",
   "execution_count": 4,
   "outputs": [
    {
     "name": "stdout",
     "output_type": "stream",
     "text": [
      "<class 'pandas.core.frame.DataFrame'>\n",
      "RangeIndex: 27189 entries, 0 to 27188\n",
      "Data columns (total 3 columns):\n",
      " #   Column       Non-Null Count  Dtype              \n",
      "---  ------       --------------  -----              \n",
      " 0   water_level  27189 non-null  float64            \n",
      " 1   timestamp    27189 non-null  datetime64[ns, UTC]\n",
      " 2   is_outlier   27189 non-null  bool               \n",
      "dtypes: bool(1), datetime64[ns, UTC](1), float64(1)\n",
      "memory usage: 451.5 KB\n"
     ]
    }
   ],
   "source": [
    "stations_df = pd.read_csv('./data/stations.csv')\n",
    "stations_dict = stations_df.groupby(['common_id']).first().to_dict('index')\n",
    "common_id = '36022-ie'\n",
    "tex_plots_path = f'../bachelor-thesis/plots/pdfs/{common_id}/'\n",
    "\n",
    "df = pd.read_parquet(f'data/{common_id}_outliers_classified.parquet')\n",
    "df.info()"
   ],
   "metadata": {
    "collapsed": false,
    "pycharm": {
     "name": "#%%\n"
    }
   }
  },
  {
   "cell_type": "code",
   "execution_count": 5,
   "outputs": [
    {
     "data": {
      "text/plain": "False    26562\nTrue       627\nName: is_outlier, dtype: int64"
     },
     "execution_count": 5,
     "metadata": {},
     "output_type": "execute_result"
    }
   ],
   "source": [
    "df['is_outlier'].value_counts()"
   ],
   "metadata": {
    "collapsed": false,
    "pycharm": {
     "name": "#%%\n"
    }
   }
  },
  {
   "cell_type": "code",
   "execution_count": 6,
   "outputs": [
    {
     "data": {
      "text/plain": "        water_level\ncount  27189.000000\nmean      36.009754\nstd       14.716286\nmin        0.000000\n25%       26.400000\n50%       31.700000\n75%       40.300000\nmax      190.000000",
      "text/html": "<div>\n<style scoped>\n    .dataframe tbody tr th:only-of-type {\n        vertical-align: middle;\n    }\n\n    .dataframe tbody tr th {\n        vertical-align: top;\n    }\n\n    .dataframe thead th {\n        text-align: right;\n    }\n</style>\n<table border=\"1\" class=\"dataframe\">\n  <thead>\n    <tr style=\"text-align: right;\">\n      <th></th>\n      <th>water_level</th>\n    </tr>\n  </thead>\n  <tbody>\n    <tr>\n      <th>count</th>\n      <td>27189.000000</td>\n    </tr>\n    <tr>\n      <th>mean</th>\n      <td>36.009754</td>\n    </tr>\n    <tr>\n      <th>std</th>\n      <td>14.716286</td>\n    </tr>\n    <tr>\n      <th>min</th>\n      <td>0.000000</td>\n    </tr>\n    <tr>\n      <th>25%</th>\n      <td>26.400000</td>\n    </tr>\n    <tr>\n      <th>50%</th>\n      <td>31.700000</td>\n    </tr>\n    <tr>\n      <th>75%</th>\n      <td>40.300000</td>\n    </tr>\n    <tr>\n      <th>max</th>\n      <td>190.000000</td>\n    </tr>\n  </tbody>\n</table>\n</div>"
     },
     "metadata": {},
     "output_type": "display_data"
    },
    {
     "data": {
      "text/plain": "       water_level\ncount   627.000000\nmean     62.214195\nstd      25.668622\nmin       0.000000\n25%      50.000000\n50%      60.000000\n75%      80.000000\nmax     190.000000",
      "text/html": "<div>\n<style scoped>\n    .dataframe tbody tr th:only-of-type {\n        vertical-align: middle;\n    }\n\n    .dataframe tbody tr th {\n        vertical-align: top;\n    }\n\n    .dataframe thead th {\n        text-align: right;\n    }\n</style>\n<table border=\"1\" class=\"dataframe\">\n  <thead>\n    <tr style=\"text-align: right;\">\n      <th></th>\n      <th>water_level</th>\n    </tr>\n  </thead>\n  <tbody>\n    <tr>\n      <th>count</th>\n      <td>627.000000</td>\n    </tr>\n    <tr>\n      <th>mean</th>\n      <td>62.214195</td>\n    </tr>\n    <tr>\n      <th>std</th>\n      <td>25.668622</td>\n    </tr>\n    <tr>\n      <th>min</th>\n      <td>0.000000</td>\n    </tr>\n    <tr>\n      <th>25%</th>\n      <td>50.000000</td>\n    </tr>\n    <tr>\n      <th>50%</th>\n      <td>60.000000</td>\n    </tr>\n    <tr>\n      <th>75%</th>\n      <td>80.000000</td>\n    </tr>\n    <tr>\n      <th>max</th>\n      <td>190.000000</td>\n    </tr>\n  </tbody>\n</table>\n</div>"
     },
     "metadata": {},
     "output_type": "display_data"
    },
    {
     "data": {
      "text/plain": "        water_level\ncount  26562.000000\nmean      35.391194\nstd       13.768096\nmin       20.000000\n25%       26.400000\n50%       31.400000\n75%       39.800000\nmax      151.600000",
      "text/html": "<div>\n<style scoped>\n    .dataframe tbody tr th:only-of-type {\n        vertical-align: middle;\n    }\n\n    .dataframe tbody tr th {\n        vertical-align: top;\n    }\n\n    .dataframe thead th {\n        text-align: right;\n    }\n</style>\n<table border=\"1\" class=\"dataframe\">\n  <thead>\n    <tr style=\"text-align: right;\">\n      <th></th>\n      <th>water_level</th>\n    </tr>\n  </thead>\n  <tbody>\n    <tr>\n      <th>count</th>\n      <td>26562.000000</td>\n    </tr>\n    <tr>\n      <th>mean</th>\n      <td>35.391194</td>\n    </tr>\n    <tr>\n      <th>std</th>\n      <td>13.768096</td>\n    </tr>\n    <tr>\n      <th>min</th>\n      <td>20.000000</td>\n    </tr>\n    <tr>\n      <th>25%</th>\n      <td>26.400000</td>\n    </tr>\n    <tr>\n      <th>50%</th>\n      <td>31.400000</td>\n    </tr>\n    <tr>\n      <th>75%</th>\n      <td>39.800000</td>\n    </tr>\n    <tr>\n      <th>max</th>\n      <td>151.600000</td>\n    </tr>\n  </tbody>\n</table>\n</div>"
     },
     "metadata": {},
     "output_type": "display_data"
    }
   ],
   "source": [
    "display(df.describe())\n",
    "display(df.loc[df['is_outlier']].describe())\n",
    "display(df.loc[~df['is_outlier']].describe())\n"
   ],
   "metadata": {
    "collapsed": false,
    "pycharm": {
     "name": "#%%\n"
    }
   }
  },
  {
   "cell_type": "code",
   "execution_count": 7,
   "outputs": [],
   "source": [
    "\n",
    "from sklearn.model_selection import KFold\n",
    "from sklearn.metrics import f1_score\n",
    "from sklearn.metrics import precision_score\n",
    "from sklearn.metrics import recall_score"
   ],
   "metadata": {
    "collapsed": false,
    "pycharm": {
     "name": "#%%\n"
    }
   }
  },
  {
   "cell_type": "code",
   "execution_count": 27,
   "outputs": [],
   "source": [
    "x_norm = preprocessing.normalize(df['water_level'].values.reshape(-1, 1))\n",
    "X = df['water_level'].values.reshape(-1, 1)\n",
    "y = df['is_outlier'].astype(int).to_numpy().reshape(-1, 1)\n"
   ],
   "metadata": {
    "collapsed": false,
    "pycharm": {
     "name": "#%%\n"
    }
   }
  },
  {
   "cell_type": "code",
   "execution_count": 10,
   "outputs": [
    {
     "name": "stdout",
     "output_type": "stream",
     "text": [
      "x_hat: 36.00975394460995\n",
      "mean(|x - xhat|) all values: 10.280536615167582\n",
      "mean(|x - xhat|) regular values: 9.796021428545968\n",
      "mean(|x - xhat|) outlier values: 30.80636179386507\n"
     ]
    },
    {
     "data": {
      "text/plain": "<Figure size 432x288 with 1 Axes>",
      "image/png": "[encoded data removed]"
     },
     "metadata": {},
     "output_type": "display_data"
    },
    {
     "data": {
      "text/plain": "<Figure size 432x288 with 1 Axes>",
      "image/png": "[encoded data removed]"
     },
     "metadata": {},
     "output_type": "display_data"
    },
    {
     "data": {
      "text/plain": "<Figure size 432x288 with 1 Axes>",
      "image/png": "[encoded data removed]"
     },
     "metadata": {},
     "output_type": "display_data"
    }
   ],
   "source": [
    "# Mean\n",
    "x = df['water_level'].to_numpy()\n",
    "x_hat = df['water_level'].mean()\n",
    "print(f'x_hat: {x_hat}')\n",
    "print(f'mean(|x - xhat|) all values: {np.mean(np.abs(x - x_hat))}')\n",
    "print(\n",
    "    f'mean(|x - xhat|) regular values: {np.mean(np.abs(df.loc[~df[\"is_outlier\"], \"water_level\"] - x_hat))}')\n",
    "print(\n",
    "    f'mean(|x - xhat|) outlier values: {np.mean(np.abs(df.loc[df[\"is_outlier\"], \"water_level\"] - x_hat))}')\n",
    "plt.boxplot(x - x_hat)\n",
    "plt.show()\n",
    "plt.boxplot(np.abs(df.loc[~df[\"is_outlier\"], \"water_level\"] - x_hat))\n",
    "plt.show()\n",
    "plt.boxplot(np.abs(df.loc[df[\"is_outlier\"], \"water_level\"] - x_hat))\n",
    "plt.show()\n",
    "\n"
   ],
   "metadata": {
    "collapsed": false,
    "pycharm": {
     "name": "#%%\n"
    }
   }
  },
  {
   "cell_type": "code",
   "execution_count": 21,
   "outputs": [
    {
     "name": "stdout",
     "output_type": "stream",
     "text": [
      "x_hat: 31.7\n",
      "mean(|x - xhat|) all values: 9.620320717937402\n",
      "mean(|x - xhat|) regular values: 9.04185302311573\n",
      "mean(|x - xhat|) outlier values: 34.12631578947369\n"
     ]
    },
    {
     "data": {
      "text/plain": "<Figure size 432x288 with 1 Axes>",
      "image/png": "[encoded data removed]"
     },
     "metadata": {},
     "output_type": "display_data"
    },
    {
     "data": {
      "text/plain": "<Figure size 432x288 with 1 Axes>",
      "image/png": "[encoded data removed]"
     },
     "metadata": {},
     "output_type": "display_data"
    },
    {
     "data": {
      "text/plain": "<Figure size 432x288 with 1 Axes>",
      "image/png": "[encoded data removed]"
     },
     "metadata": {},
     "output_type": "display_data"
    }
   ],
   "source": [
    "# Median\n",
    "x_hat = df['water_level'].median()\n",
    "print(f'x_hat: {x_hat}')\n",
    "print(f'mean(|x - xhat|) all values: {np.mean(np.abs(x - x_hat))}')\n",
    "print(\n",
    "    f'mean(|x - xhat|) regular values: {np.mean(np.abs(df.loc[~df[\"is_outlier\"], \"water_level\"] - x_hat))}')\n",
    "print(\n",
    "    f'mean(|x - xhat|) outlier values: {np.mean(np.abs(df.loc[df[\"is_outlier\"], \"water_level\"] - x_hat))}')\n",
    "plt.boxplot(x - x_hat)\n",
    "plt.show()\n",
    "plt.boxplot(np.abs(df.loc[~df[\"is_outlier\"], \"water_level\"] - x_hat))\n",
    "plt.show()\n",
    "plt.boxplot(np.abs(df.loc[df[\"is_outlier\"], \"water_level\"] - x_hat))\n",
    "plt.show()\n"
   ],
   "metadata": {
    "collapsed": false,
    "pycharm": {
     "name": "#%%\n"
    }
   }
  },
  {
   "cell_type": "code",
   "execution_count": 31,
   "outputs": [
    {
     "name": "stdout",
     "output_type": "stream",
     "text": [
      "x_hat: 6.199999999999999\n",
      "mean(|x - xhat|) all values: 29.815226746110557\n",
      "mean(|x - xhat|) regular values: 29.1911941871847\n",
      "mean(|x - xhat|) outlier values: 56.25151515151515\n",
      "median(|x - xhat|) all values: 25.5\n",
      "median(|x - xhat|) regular values: 25.2\n",
      "median(|x - xhat|) outlier values: 53.8\n"
     ]
    },
    {
     "data": {
      "text/plain": "<Figure size 432x288 with 1 Axes>",
      "image/png": "[encoded data removed]"
     },
     "metadata": {},
     "output_type": "display_data"
    },
    {
     "data": {
      "text/plain": "<Figure size 432x288 with 1 Axes>",
      "image/png": "[encoded data removed]"
     },
     "metadata": {},
     "output_type": "display_data"
    },
    {
     "data": {
      "text/plain": "<Figure size 432x288 with 1 Axes>",
      "image/png": "[encoded data removed]"
     },
     "metadata": {},
     "output_type": "display_data"
    }
   ],
   "source": [
    "# MAD\n",
    "x_hat = np.median(np.abs(df['water_level'] - df['water_level'].median()))\n",
    "print(f'x_hat: {x_hat}')\n",
    "print(f'mean(|x - xhat|) all values: {np.mean(np.abs(x - x_hat))}')\n",
    "print(\n",
    "    f'mean(|x - xhat|) regular values: {np.mean(np.abs(df.loc[~df[\"is_outlier\"], \"water_level\"] - x_hat))}')\n",
    "print(\n",
    "    f'mean(|x - xhat|) outlier values: {np.mean(np.abs(df.loc[df[\"is_outlier\"], \"water_level\"] - x_hat))}')\n",
    "print(f'median(|x - xhat|) all values: {np.median(np.abs(x - x_hat))}')\n",
    "print(\n",
    "    f'median(|x - xhat|) regular values: {np.median(np.abs(df.loc[~df[\"is_outlier\"], \"water_level\"] - x_hat))}')\n",
    "print(\n",
    "    f'median(|x - xhat|) outlier values: {np.median(np.abs(df.loc[df[\"is_outlier\"], \"water_level\"] - x_hat))}')\n",
    "\n",
    "plt.boxplot(x - x_hat)\n",
    "plt.show()\n",
    "plt.boxplot(np.abs(df.loc[~df[\"is_outlier\"], \"water_level\"] - x_hat))\n",
    "plt.show()\n",
    "plt.boxplot(np.abs(df.loc[df[\"is_outlier\"], \"water_level\"] - x_hat))\n",
    "plt.show()"
   ],
   "metadata": {
    "collapsed": false,
    "pycharm": {
     "name": "#%%\n"
    }
   }
  },
  {
   "cell_type": "code",
   "execution_count": 38,
   "outputs": [
    {
     "data": {
      "text/plain": "  0%|          | 0/100 [00:00<?, ?it/s]",
      "application/vnd.jupyter.widget-view+json": {
       "version_major": 2,
       "version_minor": 0,
       "model_id": "052817f553564faab3cca7eb1667ac52"
      }
     },
     "metadata": {},
     "output_type": "display_data"
    }
   ],
   "source": [
    "\n",
    "scores = []\n",
    "# score_df = pd.DataFrame(\n",
    "#     columns=['f1_test', 'f1_train', 'precision_test', 'precision_train',\n",
    "#              'recall_test', 'recall_train', 'threshold',\n",
    "#              'percentage_outlier_test', 'percentage_outlier_train'])\n",
    "for i in tqdm(np.linspace(0, 100, 100)):\n",
    "    kf = KFold(n_splits=5)\n",
    "    for train_index, test_index in kf.split(X, y):\n",
    "        X_train = X[train_index]\n",
    "        X_test = X[test_index]\n",
    "        y_train = y[train_index]\n",
    "        y_test = y[test_index]\n",
    "        y_pred_train = np.where(np.abs(X_train - x_hat) > i, 1, 0)\n",
    "        y_pred_test = np.where(np.abs(X_test - x_hat) > i, 1, 0)\n",
    "        # row = pd.Series([f1_score(y_test, y_pred_test, zero_division=0),\n",
    "        #                  f1_score(y_train, y_pred_train, zero_division=0),\n",
    "        #                  precision_score(y_test, y_pred_test, zero_division=0),\n",
    "        #                  precision_score(y_train, y_pred_train,\n",
    "        #                                  zero_division=0),\n",
    "        #                  recall_score(y_test, y_pred_test, zero_division=0),\n",
    "        #                  recall_score(y_train, y_pred_train, zero_division=0),\n",
    "        #                  i,\n",
    "        #                  len(y_test[y_test == 1]) / len(y_test),\n",
    "        #                  len(y_train[y_train == 1]) / len(y_train)\n",
    "        #                  ], index=score_df.columns)\n",
    "        scores.append({\n",
    "            'f1_test': f1_score(y_test, y_pred_test, zero_division=0),\n",
    "            'f1_train': f1_score(y_train, y_pred_train, zero_division=0),\n",
    "            'precision_test': precision_score(y_test, y_pred_test, zero_division=0),\n",
    "            'precision_train': precision_score(y_train, y_pred_train, zero_division=0),\n",
    "            'recall_test': recall_score(y_test, y_pred_test, zero_division=0),\n",
    "            'recall_train': recall_score(y_train, y_pred_train, zero_division=0),\n",
    "            'threshold': i,\n",
    "            'percentage_outlier_truth_test': len(y_test[y_test == 1]) / len(y_test),\n",
    "            'percentage_outlier_truth_train': len(y_train[y_train == 1]) / len(y_train),\n",
    "            'percentage_outlier_pred_test': len(y_pred_test[y_pred_test == 1]) / len(y_pred_test),\n",
    "            'percentage_outlier_pred_train': len(y_pred_train[y_pred_train == 1]) / len(y_pred_train)\n",
    "        })\n",
    "        # score_df = score_df.append(row, ignore_index=True)\n",
    "score_df = pd.DataFrame(scores)"
   ],
   "metadata": {
    "collapsed": false,
    "pycharm": {
     "name": "#%%\n"
    }
   }
  },
  {
   "cell_type": "code",
   "execution_count": 39,
   "outputs": [
    {
     "data": {
      "text/plain": "      f1_test  f1_train  precision_test  precision_train  recall_test  \\\n0    0.054731  0.042655        0.028135         0.021792     1.000000   \n1    0.045642  0.044942        0.023354         0.022987     1.000000   \n2    0.038593  0.046697        0.019676         0.023907     1.000000   \n3    0.055079  0.042567        0.028319         0.021746     1.000000   \n4    0.031142  0.048535        0.015818         0.024871     1.000000   \n..        ...       ...             ...              ...          ...   \n495  0.034091  0.022059        0.130435         0.085714     0.019608   \n496  0.043796  0.020583        0.300000         0.072289     0.023622   \n497  0.033333  0.023333        0.153846         0.087500     0.018692   \n498  0.011429  0.029358        0.047619         0.111111     0.006494   \n499  0.000000  0.029605        0.000000         0.134328     0.000000   \n\n     recall_train  threshold  percentage_outlier_truth_test  \\\n0        1.000000        0.0                       0.028135   \n1        1.000000        0.0                       0.023354   \n2        1.000000        0.0                       0.019676   \n3        1.000000        0.0                       0.028319   \n4        1.000000        0.0                       0.015818   \n..            ...        ...                            ...   \n495      0.012658      100.0                       0.028135   \n496      0.012000      100.0                       0.023354   \n497      0.013462      100.0                       0.019676   \n498      0.016913      100.0                       0.028319   \n499      0.016636      100.0                       0.015818   \n\n     percentage_outlier_truth_train  percentage_outlier_pred_test  \\\n0                          0.021792                      1.000000   \n1                          0.022987                      1.000000   \n2                          0.023907                      1.000000   \n3                          0.021746                      1.000000   \n4                          0.024871                      1.000000   \n..                              ...                           ...   \n495                        0.021792                      0.004229   \n496                        0.022987                      0.001839   \n497                        0.023907                      0.002391   \n498                        0.021746                      0.003862   \n499                        0.024871                      0.004782   \n\n     percentage_outlier_pred_train  \n0                         1.000000  \n1                         1.000000  \n2                         1.000000  \n3                         1.000000  \n4                         1.000000  \n..                             ...  \n495                       0.003218  \n496                       0.003816  \n497                       0.003678  \n498                       0.003310  \n499                       0.003080  \n\n[500 rows x 11 columns]",
      "text/html": "<div>\n<style scoped>\n    .dataframe tbody tr th:only-of-type {\n        vertical-align: middle;\n    }\n\n    .dataframe tbody tr th {\n        vertical-align: top;\n    }\n\n    .dataframe thead th {\n        text-align: right;\n    }\n</style>\n<table border=\"1\" class=\"dataframe\">\n  <thead>\n    <tr style=\"text-align: right;\">\n      <th></th>\n      <th>f1_test</th>\n      <th>f1_train</th>\n      <th>precision_test</th>\n      <th>precision_train</th>\n      <th>recall_test</th>\n      <th>recall_train</th>\n      <th>threshold</th>\n      <th>percentage_outlier_truth_test</th>\n      <th>percentage_outlier_truth_train</th>\n      <th>percentage_outlier_pred_test</th>\n      <th>percentage_outlier_pred_train</th>\n    </tr>\n  </thead>\n  <tbody>\n    <tr>\n      <th>0</th>\n      <td>0.054731</td>\n      <td>0.042655</td>\n      <td>0.028135</td>\n      <td>0.021792</td>\n      <td>1.000000</td>\n      <td>1.000000</td>\n      <td>0.0</td>\n      <td>0.028135</td>\n      <td>0.021792</td>\n      <td>1.000000</td>\n      <td>1.000000</td>\n    </tr>\n    <tr>\n      <th>1</th>\n      <td>0.045642</td>\n      <td>0.044942</td>\n      <td>0.023354</td>\n      <td>0.022987</td>\n      <td>1.000000</td>\n      <td>1.000000</td>\n      <td>0.0</td>\n      <td>0.023354</td>\n      <td>0.022987</td>\n      <td>1.000000</td>\n      <td>1.000000</td>\n    </tr>\n    <tr>\n      <th>2</th>\n      <td>0.038593</td>\n      <td>0.046697</td>\n      <td>0.019676</td>\n      <td>0.023907</td>\n      <td>1.000000</td>\n      <td>1.000000</td>\n      <td>0.0</td>\n      <td>0.019676</td>\n      <td>0.023907</td>\n      <td>1.000000</td>\n      <td>1.000000</td>\n    </tr>\n    <tr>\n      <th>3</th>\n      <td>0.055079</td>\n      <td>0.042567</td>\n      <td>0.028319</td>\n      <td>0.021746</td>\n      <td>1.000000</td>\n      <td>1.000000</td>\n      <td>0.0</td>\n      <td>0.028319</td>\n      <td>0.021746</td>\n      <td>1.000000</td>\n      <td>1.000000</td>\n    </tr>\n    <tr>\n      <th>4</th>\n      <td>0.031142</td>\n      <td>0.048535</td>\n      <td>0.015818</td>\n      <td>0.024871</td>\n      <td>1.000000</td>\n      <td>1.000000</td>\n      <td>0.0</td>\n      <td>0.015818</td>\n      <td>0.024871</td>\n      <td>1.000000</td>\n      <td>1.000000</td>\n    </tr>\n    <tr>\n      <th>...</th>\n      <td>...</td>\n      <td>...</td>\n      <td>...</td>\n      <td>...</td>\n      <td>...</td>\n      <td>...</td>\n      <td>...</td>\n      <td>...</td>\n      <td>...</td>\n      <td>...</td>\n      <td>...</td>\n    </tr>\n    <tr>\n      <th>495</th>\n      <td>0.034091</td>\n      <td>0.022059</td>\n      <td>0.130435</td>\n      <td>0.085714</td>\n      <td>0.019608</td>\n      <td>0.012658</td>\n      <td>100.0</td>\n      <td>0.028135</td>\n      <td>0.021792</td>\n      <td>0.004229</td>\n      <td>0.003218</td>\n    </tr>\n    <tr>\n      <th>496</th>\n      <td>0.043796</td>\n      <td>0.020583</td>\n      <td>0.300000</td>\n      <td>0.072289</td>\n      <td>0.023622</td>\n      <td>0.012000</td>\n      <td>100.0</td>\n      <td>0.023354</td>\n      <td>0.022987</td>\n      <td>0.001839</td>\n      <td>0.003816</td>\n    </tr>\n    <tr>\n      <th>497</th>\n      <td>0.033333</td>\n      <td>0.023333</td>\n      <td>0.153846</td>\n      <td>0.087500</td>\n      <td>0.018692</td>\n      <td>0.013462</td>\n      <td>100.0</td>\n      <td>0.019676</td>\n      <td>0.023907</td>\n      <td>0.002391</td>\n      <td>0.003678</td>\n    </tr>\n    <tr>\n      <th>498</th>\n      <td>0.011429</td>\n      <td>0.029358</td>\n      <td>0.047619</td>\n      <td>0.111111</td>\n      <td>0.006494</td>\n      <td>0.016913</td>\n      <td>100.0</td>\n      <td>0.028319</td>\n      <td>0.021746</td>\n      <td>0.003862</td>\n      <td>0.003310</td>\n    </tr>\n    <tr>\n      <th>499</th>\n      <td>0.000000</td>\n      <td>0.029605</td>\n      <td>0.000000</td>\n      <td>0.134328</td>\n      <td>0.000000</td>\n      <td>0.016636</td>\n      <td>100.0</td>\n      <td>0.015818</td>\n      <td>0.024871</td>\n      <td>0.004782</td>\n      <td>0.003080</td>\n    </tr>\n  </tbody>\n</table>\n<p>500 rows × 11 columns</p>\n</div>"
     },
     "execution_count": 39,
     "metadata": {},
     "output_type": "execute_result"
    }
   ],
   "source": [
    "score_df"
   ],
   "metadata": {
    "collapsed": false,
    "pycharm": {
     "name": "#%%\n"
    }
   }
  },
  {
   "cell_type": "code",
   "execution_count": 40,
   "outputs": [
    {
     "data": {
      "text/plain": "             f1_test  f1_train  precision_test  precision_train  recall_test  \\\nthreshold                                                                      \n0.000000    0.045038  0.045079        0.023061         0.023061     1.000000   \n1.010101    0.045038  0.045079        0.023061         0.023061     1.000000   \n2.020202    0.045038  0.045079        0.023061         0.023061     1.000000   \n3.030303    0.045038  0.045079        0.023061         0.023061     1.000000   \n4.040404    0.043482  0.043531        0.022267         0.022269     0.958459   \n...              ...       ...             ...              ...          ...   \n95.959596   0.025801  0.026690        0.099960         0.083360     0.014990   \n96.969697   0.026170  0.026985        0.113339         0.089530     0.014990   \n97.979798   0.024175  0.024514        0.115302         0.085473     0.013683   \n98.989899   0.024318  0.024683        0.119362         0.089631     0.013683   \n100.000000  0.024530  0.024988        0.126380         0.098189     0.013683   \n\n            recall_train  percentage_outlier_truth_test  \\\nthreshold                                                 \n0.000000        1.000000                       0.023061   \n1.010101        1.000000                       0.023061   \n2.020202        1.000000                       0.023061   \n3.030303        1.000000                       0.023061   \n4.040404        0.964599                       0.023061   \n...                  ...                            ...   \n95.959596       0.015911                       0.023061   \n96.969697       0.015911                       0.023061   \n97.979798       0.014334                       0.023061   \n98.989899       0.014334                       0.023061   \n100.000000      0.014334                       0.023061   \n\n            percentage_outlier_truth_train  percentage_outlier_pred_test  \\\nthreshold                                                                  \n0.000000                          0.023061                      1.000000   \n1.010101                          0.023061                      1.000000   \n2.020202                          0.023061                      1.000000   \n3.030303                          0.023061                      1.000000   \n4.040404                          0.023061                      0.999191   \n...                                    ...                           ...   \n95.959596                         0.023061                      0.004450   \n96.969697                         0.023061                      0.004156   \n97.979798                         0.023061                      0.003935   \n98.989899                         0.023061                      0.003752   \n100.000000                        0.023061                      0.003421   \n\n            percentage_outlier_pred_train  \nthreshold                                  \n0.000000                         1.000000  \n1.010101                         1.000000  \n2.020202                         1.000000  \n3.030303                         1.000000  \n4.040404                         0.999191  \n...                                   ...  \n95.959596                        0.004450  \n96.969697                        0.004156  \n97.979798                        0.003935  \n98.989899                        0.003752  \n100.000000                       0.003421  \n\n[100 rows x 10 columns]",
      "text/html": "<div>\n<style scoped>\n    .dataframe tbody tr th:only-of-type {\n        vertical-align: middle;\n    }\n\n    .dataframe tbody tr th {\n        vertical-align: top;\n    }\n\n    .dataframe thead th {\n        text-align: right;\n    }\n</style>\n<table border=\"1\" class=\"dataframe\">\n  <thead>\n    <tr style=\"text-align: right;\">\n      <th></th>\n      <th>f1_test</th>\n      <th>f1_train</th>\n      <th>precision_test</th>\n      <th>precision_train</th>\n      <th>recall_test</th>\n      <th>recall_train</th>\n      <th>percentage_outlier_truth_test</th>\n      <th>percentage_outlier_truth_train</th>\n      <th>percentage_outlier_pred_test</th>\n      <th>percentage_outlier_pred_train</th>\n    </tr>\n    <tr>\n      <th>threshold</th>\n      <th></th>\n      <th></th>\n      <th></th>\n      <th></th>\n      <th></th>\n      <th></th>\n      <th></th>\n      <th></th>\n      <th></th>\n      <th></th>\n    </tr>\n  </thead>\n  <tbody>\n    <tr>\n      <th>0.000000</th>\n      <td>0.045038</td>\n      <td>0.045079</td>\n      <td>0.023061</td>\n      <td>0.023061</td>\n      <td>1.000000</td>\n      <td>1.000000</td>\n      <td>0.023061</td>\n      <td>0.023061</td>\n      <td>1.000000</td>\n      <td>1.000000</td>\n    </tr>\n    <tr>\n      <th>1.010101</th>\n      <td>0.045038</td>\n      <td>0.045079</td>\n      <td>0.023061</td>\n      <td>0.023061</td>\n      <td>1.000000</td>\n      <td>1.000000</td>\n      <td>0.023061</td>\n      <td>0.023061</td>\n      <td>1.000000</td>\n      <td>1.000000</td>\n    </tr>\n    <tr>\n      <th>2.020202</th>\n      <td>0.045038</td>\n      <td>0.045079</td>\n      <td>0.023061</td>\n      <td>0.023061</td>\n      <td>1.000000</td>\n      <td>1.000000</td>\n      <td>0.023061</td>\n      <td>0.023061</td>\n      <td>1.000000</td>\n      <td>1.000000</td>\n    </tr>\n    <tr>\n      <th>3.030303</th>\n      <td>0.045038</td>\n      <td>0.045079</td>\n      <td>0.023061</td>\n      <td>0.023061</td>\n      <td>1.000000</td>\n      <td>1.000000</td>\n      <td>0.023061</td>\n      <td>0.023061</td>\n      <td>1.000000</td>\n      <td>1.000000</td>\n    </tr>\n    <tr>\n      <th>4.040404</th>\n      <td>0.043482</td>\n      <td>0.043531</td>\n      <td>0.022267</td>\n      <td>0.022269</td>\n      <td>0.958459</td>\n      <td>0.964599</td>\n      <td>0.023061</td>\n      <td>0.023061</td>\n      <td>0.999191</td>\n      <td>0.999191</td>\n    </tr>\n    <tr>\n      <th>...</th>\n      <td>...</td>\n      <td>...</td>\n      <td>...</td>\n      <td>...</td>\n      <td>...</td>\n      <td>...</td>\n      <td>...</td>\n      <td>...</td>\n      <td>...</td>\n      <td>...</td>\n    </tr>\n    <tr>\n      <th>95.959596</th>\n      <td>0.025801</td>\n      <td>0.026690</td>\n      <td>0.099960</td>\n      <td>0.083360</td>\n      <td>0.014990</td>\n      <td>0.015911</td>\n      <td>0.023061</td>\n      <td>0.023061</td>\n      <td>0.004450</td>\n      <td>0.004450</td>\n    </tr>\n    <tr>\n      <th>96.969697</th>\n      <td>0.026170</td>\n      <td>0.026985</td>\n      <td>0.113339</td>\n      <td>0.089530</td>\n      <td>0.014990</td>\n      <td>0.015911</td>\n      <td>0.023061</td>\n      <td>0.023061</td>\n      <td>0.004156</td>\n      <td>0.004156</td>\n    </tr>\n    <tr>\n      <th>97.979798</th>\n      <td>0.024175</td>\n      <td>0.024514</td>\n      <td>0.115302</td>\n      <td>0.085473</td>\n      <td>0.013683</td>\n      <td>0.014334</td>\n      <td>0.023061</td>\n      <td>0.023061</td>\n      <td>0.003935</td>\n      <td>0.003935</td>\n    </tr>\n    <tr>\n      <th>98.989899</th>\n      <td>0.024318</td>\n      <td>0.024683</td>\n      <td>0.119362</td>\n      <td>0.089631</td>\n      <td>0.013683</td>\n      <td>0.014334</td>\n      <td>0.023061</td>\n      <td>0.023061</td>\n      <td>0.003752</td>\n      <td>0.003752</td>\n    </tr>\n    <tr>\n      <th>100.000000</th>\n      <td>0.024530</td>\n      <td>0.024988</td>\n      <td>0.126380</td>\n      <td>0.098189</td>\n      <td>0.013683</td>\n      <td>0.014334</td>\n      <td>0.023061</td>\n      <td>0.023061</td>\n      <td>0.003421</td>\n      <td>0.003421</td>\n    </tr>\n  </tbody>\n</table>\n<p>100 rows × 10 columns</p>\n</div>"
     },
     "execution_count": 40,
     "metadata": {},
     "output_type": "execute_result"
    }
   ],
   "source": [
    "score_df.groupby('threshold').mean()"
   ],
   "metadata": {
    "collapsed": false,
    "pycharm": {
     "name": "#%%\n"
    }
   }
  }
 ],
 "metadata": {
  "kernelspec": {
   "display_name": "Python 3",
   "language": "python",
   "name": "python3"
  },
  "language_info": {
   "codemirror_mode": {
    "name": "ipython",
    "version": 2
   },
   "file_extension": ".py",
   "mimetype": "text/x-python",
   "name": "python",
   "nbconvert_exporter": "python",
   "pygments_lexer": "ipython2",
   "version": "2.7.6"
  }
 },
 "nbformat": 4,
 "nbformat_minor": 0
}