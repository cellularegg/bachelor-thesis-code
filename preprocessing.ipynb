{
 "cells": [
  {
   "cell_type": "code",
   "execution_count": 4,
   "metadata": {
    "pycharm": {
     "name": "#%%\n"
    },
    "tags": []
   },
   "outputs": [],
   "source": [
    "import os\n",
    "\n",
    "import numpy as np\n",
    "import pandas as pd\n",
    "\n",
    "random_seed = 1\n",
    "np.random.seed(random_seed)"
   ]
  },
  {
   "cell_type": "code",
   "execution_count": 5,
   "metadata": {
    "collapsed": false,
    "jupyter": {
     "outputs_hidden": false
    },
    "pycharm": {
     "name": "#%%\n"
    }
   },
   "outputs": [],
   "source": [
    "stations_df = pd.read_csv('./data/stations.csv')\n",
    "stations_dict = stations_df.groupby(['common_id']).first().to_dict('index')\n",
    "stations_dict['2386-ch']['lower_limit'] = 38_000.0\n",
    "stations_dict['2386-ch']['upper_limit'] = 40_000.0\n",
    "stations_dict['2720050000-de']['lower_limit'] = 20.0\n",
    "stations_dict['2720050000-de']['upper_limit'] = 500.0\n",
    "stations_dict['36022-ie']['lower_limit'] = 20.0\n",
    "stations_dict['36022-ie']['upper_limit'] = 175.0\n",
    "stations_dict['39003-ie']['lower_limit'] = 10.0\n",
    "stations_dict['39003-ie']['upper_limit'] = 225.0\n",
    "stations_dict['42960105-de']['lower_limit'] = -10.0\n",
    "stations_dict['42960105-de']['upper_limit'] = 275.0\n",
    "stations_dict['auto-1003803']['lower_limit'] = -10.0\n",
    "stations_dict['auto-1003803']['upper_limit'] = 275.0"
   ]
  },
  {
   "cell_type": "code",
   "execution_count": 6,
   "metadata": {
    "collapsed": false,
    "jupyter": {
     "outputs_hidden": false
    },
    "pycharm": {
     "name": "#%%for station, dixt in stations_dict.items():\n"
    }
   },
   "outputs": [
    {
     "name": "stdout",
     "output_type": "stream",
     "text": [
      "Removing for 2386-ch, lower limit 38000.0, upper limit 40000.0\n",
      "Removing following rows:\n",
      "       water_level                 timestamp  is_outlier\n",
      "28266     63902.70 2019-08-22 06:00:00+00:00        True\n",
      "28412       600.00 2019-08-28 09:00:00+00:00        True\n",
      "30778    222200.00 2019-12-06 10:00:00+00:00        True\n",
      "32183       800.00 2020-02-03 13:00:00+00:00        True\n",
      "32774        39.04 2020-02-28 04:00:00+00:00        True\n",
      "33093     15024.00 2020-03-16 13:00:00+00:00        True\n",
      "36882       587.00 2020-08-26 15:00:00+00:00        True\n",
      "\n",
      "Removing for 2720050000-de, lower limit 20.0, upper limit 500.0\n",
      "Removing following rows:\n",
      "       water_level                 timestamp  is_outlier\n",
      "26845         19.0 2019-08-21 09:00:00+00:00        True\n",
      "26857          3.1 2019-08-21 21:00:00+00:00        True\n",
      "27025     332881.0 2019-08-28 21:00:00+00:00        True\n",
      "27045      33546.0 2019-08-29 17:00:00+00:00        True\n",
      "28539     470470.0 2019-10-31 01:00:00+00:00        True\n",
      "29810       7272.0 2019-12-23 14:00:00+00:00        True\n",
      "31086         15.0 2020-02-15 01:00:00+00:00        True\n",
      "33543          1.0 2020-05-28 03:00:00+00:00        True\n",
      "39675          8.0 2021-02-11 06:00:00+00:00        True\n",
      "41377          6.0 2021-04-23 22:00:00+00:00        True\n",
      "45186         12.0 2021-10-02 06:00:00+00:00        True\n",
      "\n",
      "Removing for 36022-ie, lower limit 20.0, upper limit 175.0\n",
      "Removing following rows:\n",
      "       water_level                 timestamp  is_outlier\n",
      "135           10.0 2019-07-06 22:00:00+00:00        True\n",
      "257            0.0 2019-07-12 23:00:00+00:00        True\n",
      "304           10.0 2019-07-14 22:00:00+00:00        True\n",
      "2023         190.0 2019-10-04 03:00:00+00:00        True\n",
      "6250          10.0 2020-03-31 23:00:00+00:00        True\n",
      "6274          10.0 2020-04-01 23:00:00+00:00        True\n",
      "6514          10.0 2020-04-11 23:00:00+00:00        True\n",
      "6585          10.0 2020-04-14 22:00:00+00:00        True\n",
      "6680          10.0 2020-04-18 21:00:00+00:00        True\n",
      "6752           0.0 2020-04-21 21:00:00+00:00        True\n",
      "6915          10.0 2020-04-28 21:00:00+00:00        True\n",
      "11042        190.0 2020-10-21 00:00:00+00:00        True\n",
      "19993         10.0 2021-11-28 01:00:00+00:00        True\n",
      "20251         10.0 2021-12-09 02:00:00+00:00        True\n",
      "21124         10.0 2022-01-05 16:30:00+00:00        True\n",
      "21127          0.0 2022-01-05 17:30:00+00:00        True\n",
      "21669          0.0 2022-01-12 16:30:00+00:00        True\n",
      "22260          0.0 2022-01-20 11:30:00+00:00        True\n",
      "22787         10.0 2022-01-27 14:30:00+00:00        True\n",
      "22792          0.0 2022-01-27 16:30:00+00:00        True\n",
      "23525          0.0 2022-02-06 17:45:00+00:00        True\n",
      "23981         10.0 2022-02-12 20:45:00+00:00        True\n",
      "24108         10.0 2022-02-14 14:45:00+00:00        True\n",
      "24596         10.0 2022-02-21 15:45:00+00:00        True\n",
      "24801          0.0 2022-02-24 19:45:00+00:00        True\n",
      "25041         10.0 2022-02-28 17:30:00+00:00        True\n",
      "25044          0.0 2022-02-28 18:30:00+00:00        True\n",
      "25262         10.0 2022-03-04 00:30:00+00:00        True\n",
      "25265          0.0 2022-03-04 01:30:00+00:00        True\n",
      "25723          0.0 2022-03-10 19:30:00+00:00        True\n",
      "25917         10.0 2022-03-13 13:45:00+00:00        True\n",
      "25920         10.0 2022-03-13 14:45:00+00:00        True\n",
      "26168         10.0 2022-03-17 03:30:00+00:00        True\n",
      "26170          0.0 2022-03-17 04:30:00+00:00        True\n",
      "26197         10.0 2022-03-17 13:30:00+00:00        True\n",
      "26238         10.0 2022-03-18 03:30:00+00:00        True\n",
      "\n",
      "Removing for 39003-ie, lower limit 10.0, upper limit 225.0\n",
      "Removing following rows:\n",
      "       water_level                 timestamp  is_outlier\n",
      "7196           0.0 2020-04-27 17:00:00+00:00        True\n",
      "22248          0.0 2022-01-12 10:45:00+00:00        True\n",
      "22970          0.0 2022-01-22 00:30:00+00:00        True\n",
      "22973          0.0 2022-01-22 01:30:00+00:00        True\n",
      "23393          0.0 2022-01-27 14:30:00+00:00        True\n",
      "23637          0.0 2022-01-30 18:30:00+00:00        True\n",
      "26385          0.0 2022-03-11 12:30:00+00:00        True\n",
      "\n",
      "Removing for 42960105-de, lower limit -10.0, upper limit 275.0\n",
      "Removing following rows:\n",
      "       water_level                 timestamp  is_outlier\n",
      "30613        633.0 2019-12-21 10:00:00+00:00        True\n",
      "31078        400.0 2020-01-09 19:00:00+00:00        True\n",
      "34446        870.0 2020-06-01 15:00:00+00:00        True\n",
      "43707        316.0 2021-07-11 19:00:00+00:00        True\n",
      "\n",
      "Removing for auto-1003803, lower limit -10.0, upper limit 275.0\n",
      "Removing following rows:\n",
      "       water_level                 timestamp  is_outlier\n",
      "23230        343.0 2019-08-22 12:00:00+00:00        True\n",
      "23544     352679.0 2019-09-04 14:00:00+00:00        True\n",
      "23546       3030.0 2019-09-04 16:00:00+00:00        True\n",
      "23809       4949.0 2019-09-15 17:00:00+00:00        True\n",
      "24537        420.0 2019-10-17 00:00:00+00:00        True\n",
      "25788       1616.0 2019-12-08 06:00:00+00:00        True\n",
      "27163        944.0 2020-02-04 18:00:00+00:00        True\n",
      "27929        572.0 2020-03-07 17:00:00+00:00        True\n",
      "29339        336.0 2020-05-05 20:00:00+00:00        True\n",
      "\n"
     ]
    }
   ],
   "source": [
    "for common_id, station_dict in stations_dict.items():\n",
    "    fp = f'./data/classified_raw/{common_id}_outliers_classified.parquet'\n",
    "    if not os.path.exists(fp):\n",
    "        continue\n",
    "    raw_classified_df = pd.read_parquet(fp)\n",
    "    print(f'Removing for {common_id}, lower limit {station_dict[\"lower_limit\"]}, upper limit {station_dict[\"upper_limit\"]}')\n",
    "    print('Removing following rows:')\n",
    "    mask = (raw_classified_df['water_level'] < station_dict['lower_limit']) | (raw_classified_df['water_level'] > station_dict['upper_limit'])\n",
    "    print(raw_classified_df[mask])\n",
    "    raw_classified_df[~mask].to_parquet(f'././data/classified/{common_id}_outliers_classified.parquet')\n",
    "    print()\n"
   ]
  }
 ],
 "metadata": {
  "kernelspec": {
   "display_name": "Python 3 (ipykernel)",
   "language": "python",
   "name": "python3"
  },
  "language_info": {
   "codemirror_mode": {
    "name": "ipython",
    "version": 3
   },
   "file_extension": ".py",
   "mimetype": "text/x-python",
   "name": "python",
   "nbconvert_exporter": "python",
   "pygments_lexer": "ipython3",
   "version": "3.9.2"
  }
 },
 "nbformat": 4,
 "nbformat_minor": 4
}