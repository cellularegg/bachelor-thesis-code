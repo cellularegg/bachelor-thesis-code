{
 "cells": [
  {
   "cell_type": "code",
   "execution_count": 4,
   "metadata": {},
   "outputs": [],
   "source": [
    "from basic_api_access import BasicApiAccess\n",
    "import datetime\n",
    "import os"
   ]
  },
  {
   "cell_type": "code",
   "execution_count": 5,
   "metadata": {},
   "outputs": [],
   "source": [
    "username = os.environ['PEGELALARM_USER']\n",
    "password = os.environ['PEGELALARM_PASSWORD']"
   ]
  },
  {
   "cell_type": "code",
   "execution_count": 6,
   "metadata": {},
   "outputs": [],
   "source": [
    "baa = BasicApiAccess(username, password)"
   ]
  },
  {
   "cell_type": "code",
   "execution_count": 7,
   "metadata": {},
   "outputs": [
    {
     "name": "stdout",
     "output_type": "stream",
     "text": [
      "Result: {'name': 'Donau / Linz / at', 'commonid': '207068-at', 'country': 'Österreich', 'stationName': 'Linz', 'water': 'Donau', 'region': 'Oberösterreich', 'latitude': 48.306915712282, 'longitude': 14.284689597541, 'positionKm': 2135.17, 'altitudeM': 247.74, 'defaultWarnValueCm': 550.0, 'defaultAlarmValueCm': 630.0, 'data': [{'type': 'height in cm', 'value': 356.0, 'requestDate': '20.03.2022T11:00:13+0100', 'sourceDate': '20.03.2022T10:45:00+0100'}], 'trend': -10, 'situation': 10, 'visibility': 'PUBLIC', 'stationType': 'surfacewater'}\n"
     ]
    }
   ],
   "source": [
    "# Example to load current water level data and some meta data of a station\n",
    "currentStationData = baa.query_current_data(station_name=\"Linz\", water_name=\"Donau\")\n",
    "print(\"Result: \" + str(currentStationData[\"stations\"][0]))\n",
    "result0CommonId = currentStationData[\"stations\"][0][\"commonid\"]"
   ]
  },
  {
   "cell_type": "code",
   "execution_count": 8,
   "metadata": {},
   "outputs": [
    {
     "name": "stdout",
     "output_type": "stream",
     "text": [
      "Result:        value                 sourceDate\n",
      "0      442.0  2014-08-04 14:00:00+02:00\n",
      "1      439.0  2014-08-04 16:00:00+02:00\n",
      "2      429.0  2014-08-04 18:00:00+02:00\n",
      "3      430.0  2014-08-04 20:00:00+02:00\n",
      "4      426.0  2014-08-04 22:00:00+02:00\n",
      "...      ...                        ...\n",
      "47597  358.0  2020-05-31 12:00:00+02:00\n",
      "47598  358.0  2020-05-31 13:00:00+02:00\n",
      "47599  360.0  2020-05-31 14:00:00+02:00\n",
      "47600  362.0  2020-05-31 15:00:00+02:00\n",
      "47601  361.0  2020-05-31 16:00:00+02:00\n",
      "\n",
      "[47602 rows x 2 columns]\n"
     ]
    }
   ],
   "source": [
    "# Example to load historic water level height for a specific station\n",
    "loadStartDate = datetime.datetime(2000, 5, 31, 10, 30)\n",
    "loadEndDate = datetime.datetime(2020, 5, 31, 16, 45)\n",
    "df = baa.query_historic_data(result0CommonId, loadStartDate, loadEndDate)\n",
    "print(\"Result: \" + str(df))"
   ]
  },
  {
   "cell_type": "code",
   "execution_count": 9,
   "metadata": {},
   "outputs": [
    {
     "name": "stdout",
     "output_type": "stream",
     "text": [
      "<class 'pandas.core.frame.DataFrame'>\n",
      "RangeIndex: 47602 entries, 0 to 47601\n",
      "Data columns (total 2 columns):\n",
      " #   Column      Non-Null Count  Dtype  \n",
      "---  ------      --------------  -----  \n",
      " 0   value       47602 non-null  float64\n",
      " 1   sourceDate  47602 non-null  object \n",
      "dtypes: float64(1), object(1)\n",
      "memory usage: 743.9+ KB\n"
     ]
    }
   ],
   "source": [
    "df.info()"
   ]
  }
 ],
 "metadata": {
  "interpreter": {
   "hash": "e5dc2a63b9d1c7c44250a45e59a419da17871623bd331719dd90a4acb8bf82df"
  },
  "kernelspec": {
   "display_name": "Python 3.9.2 ('bac')",
   "language": "python",
   "name": "python3"
  },
  "language_info": {
   "codemirror_mode": {
    "name": "ipython",
    "version": 3
   },
   "file_extension": ".py",
   "mimetype": "text/x-python",
   "name": "python",
   "nbconvert_exporter": "python",
   "pygments_lexer": "ipython3",
   "version": "3.9.2"
  },
  "orig_nbformat": 4
 },
 "nbformat": 4,
 "nbformat_minor": 2
}
