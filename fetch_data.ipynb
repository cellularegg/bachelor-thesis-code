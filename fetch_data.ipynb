{
 "cells": [
  {
   "cell_type": "code",
   "execution_count": 5,
   "metadata": {},
   "outputs": [],
   "source": [
    "import pandas as pd\n",
    "from basic_api_access import BasicApiAccess\n",
    "import datetime\n",
    "import os\n",
    "import numpy as np"
   ]
  },
  {
   "cell_type": "code",
   "execution_count": 6,
   "metadata": {},
   "outputs": [],
   "source": [
    "username = os.environ['PEGELALARM_USER']\n",
    "password = os.environ['PEGELALARM_PASSWORD']\n",
    "\n",
    "baa = BasicApiAccess(username, password)"
   ]
  },
  {
   "cell_type": "code",
   "execution_count": 7,
   "metadata": {},
   "outputs": [
    {
     "data": {
      "text/html": [
       "<div>\n",
       "<style scoped>\n",
       "    .dataframe tbody tr th:only-of-type {\n",
       "        vertical-align: middle;\n",
       "    }\n",
       "\n",
       "    .dataframe tbody tr th {\n",
       "        vertical-align: top;\n",
       "    }\n",
       "\n",
       "    .dataframe thead th {\n",
       "        text-align: right;\n",
       "    }\n",
       "</style>\n",
       "<table border=\"1\" class=\"dataframe\">\n",
       "  <thead>\n",
       "    <tr style=\"text-align: right;\">\n",
       "      <th></th>\n",
       "      <th>water_name</th>\n",
       "      <th>station_name</th>\n",
       "      <th>common_id</th>\n",
       "    </tr>\n",
       "  </thead>\n",
       "  <tbody>\n",
       "    <tr>\n",
       "      <th>0</th>\n",
       "      <td>Crana</td>\n",
       "      <td>Tullyarvan</td>\n",
       "      <td>None</td>\n",
       "    </tr>\n",
       "    <tr>\n",
       "      <th>1</th>\n",
       "      <td>Vichtbach</td>\n",
       "      <td>Mulartshütte</td>\n",
       "      <td>None</td>\n",
       "    </tr>\n",
       "    <tr>\n",
       "      <th>2</th>\n",
       "      <td>Losse</td>\n",
       "      <td>Helsa</td>\n",
       "      <td>None</td>\n",
       "    </tr>\n",
       "    <tr>\n",
       "      <th>3</th>\n",
       "      <td>Murg</td>\n",
       "      <td>Frauenfeld</td>\n",
       "      <td>None</td>\n",
       "    </tr>\n",
       "    <tr>\n",
       "      <th>4</th>\n",
       "      <td>Wupper</td>\n",
       "      <td>Glüder</td>\n",
       "      <td>None</td>\n",
       "    </tr>\n",
       "    <tr>\n",
       "      <th>5</th>\n",
       "      <td>Angerbach</td>\n",
       "      <td>Ratingen</td>\n",
       "      <td>None</td>\n",
       "    </tr>\n",
       "  </tbody>\n",
       "</table>\n",
       "</div>"
      ],
      "text/plain": [
       "  water_name  station_name common_id\n",
       "0      Crana    Tullyarvan      None\n",
       "1  Vichtbach  Mulartshütte      None\n",
       "2      Losse         Helsa      None\n",
       "3       Murg    Frauenfeld      None\n",
       "4     Wupper        Glüder      None\n",
       "5  Angerbach      Ratingen      None"
      ]
     },
     "execution_count": 7,
     "metadata": {},
     "output_type": "execute_result"
    }
   ],
   "source": [
    "stations_dict = [{\n",
    "    'water_name': 'Crana',\n",
    "    'station_name': 'Tullyarvan'\n",
    "}, {\n",
    "    'water_name': 'Vichtbach',\n",
    "    'station_name': 'Mulartshütte'\n",
    "}, {\n",
    "    'water_name': 'Losse',\n",
    "    'station_name': 'Helsa'\n",
    "}, {\n",
    "    'water_name': 'Murg',\n",
    "    'station_name': 'Frauenfeld'\n",
    "}, {\n",
    "    'water_name': 'Wupper',\n",
    "    'station_name': 'Glüder'\n",
    "}, {\n",
    "    'water_name': 'Angerbach',\n",
    "    'station_name': 'Ratingen'\n",
    "}]\n",
    "stations_df = pd.DataFrame.from_dict(stations_dict)\n",
    "stations_df['common_id'] = None\n",
    "stations_df\n"
   ]
  },
  {
   "cell_type": "code",
   "execution_count": 8,
   "metadata": {},
   "outputs": [
    {
     "data": {
      "text/html": [
       "<div>\n",
       "<style scoped>\n",
       "    .dataframe tbody tr th:only-of-type {\n",
       "        vertical-align: middle;\n",
       "    }\n",
       "\n",
       "    .dataframe tbody tr th {\n",
       "        vertical-align: top;\n",
       "    }\n",
       "\n",
       "    .dataframe thead th {\n",
       "        text-align: right;\n",
       "    }\n",
       "</style>\n",
       "<table border=\"1\" class=\"dataframe\">\n",
       "  <thead>\n",
       "    <tr style=\"text-align: right;\">\n",
       "      <th></th>\n",
       "      <th>water_name</th>\n",
       "      <th>station_name</th>\n",
       "      <th>common_id</th>\n",
       "    </tr>\n",
       "  </thead>\n",
       "  <tbody>\n",
       "    <tr>\n",
       "      <th>0</th>\n",
       "      <td>Crana</td>\n",
       "      <td>Tullyarvan</td>\n",
       "      <td>39003-ie</td>\n",
       "    </tr>\n",
       "    <tr>\n",
       "      <th>1</th>\n",
       "      <td>Vichtbach</td>\n",
       "      <td>Mulartshütte</td>\n",
       "      <td>2824450000100-de</td>\n",
       "    </tr>\n",
       "    <tr>\n",
       "      <th>2</th>\n",
       "      <td>Losse</td>\n",
       "      <td>Helsa</td>\n",
       "      <td>42960105-de</td>\n",
       "    </tr>\n",
       "    <tr>\n",
       "      <th>3</th>\n",
       "      <td>Murg</td>\n",
       "      <td>Frauenfeld</td>\n",
       "      <td>2386-ch</td>\n",
       "    </tr>\n",
       "    <tr>\n",
       "      <th>4</th>\n",
       "      <td>Wupper</td>\n",
       "      <td>Glüder</td>\n",
       "      <td>2736731000100-de</td>\n",
       "    </tr>\n",
       "    <tr>\n",
       "      <th>5</th>\n",
       "      <td>Angerbach</td>\n",
       "      <td>Ratingen</td>\n",
       "      <td>2756500000100-de</td>\n",
       "    </tr>\n",
       "  </tbody>\n",
       "</table>\n",
       "</div>"
      ],
      "text/plain": [
       "  water_name  station_name         common_id\n",
       "0      Crana    Tullyarvan          39003-ie\n",
       "1  Vichtbach  Mulartshütte  2824450000100-de\n",
       "2      Losse         Helsa       42960105-de\n",
       "3       Murg    Frauenfeld           2386-ch\n",
       "4     Wupper        Glüder  2736731000100-de\n",
       "5  Angerbach      Ratingen  2756500000100-de"
      ]
     },
     "execution_count": 8,
     "metadata": {},
     "output_type": "execute_result"
    }
   ],
   "source": [
    "for idx, row in stations_df.iterrows():\n",
    "    currentStationData = baa.query_current_data(station_name=row['station_name'], water_name=row['water_name'])\n",
    "    stations_df.at[idx, 'common_id'] = currentStationData[\"stations\"][0][\"commonid\"]\n",
    "\n",
    "stations_df.to_csv('./data/stations.csv', index=False)\n",
    "stations_df"
   ]
  },
  {
   "cell_type": "code",
   "execution_count": 9,
   "metadata": {},
   "outputs": [
    {
     "data": {
      "text/html": [
       "<div>\n",
       "<style scoped>\n",
       "    .dataframe tbody tr th:only-of-type {\n",
       "        vertical-align: middle;\n",
       "    }\n",
       "\n",
       "    .dataframe tbody tr th {\n",
       "        vertical-align: top;\n",
       "    }\n",
       "\n",
       "    .dataframe thead th {\n",
       "        text-align: right;\n",
       "    }\n",
       "</style>\n",
       "<table border=\"1\" class=\"dataframe\">\n",
       "  <thead>\n",
       "    <tr style=\"text-align: right;\">\n",
       "      <th></th>\n",
       "      <th>water_name</th>\n",
       "      <th>station_name</th>\n",
       "      <th>common_id</th>\n",
       "    </tr>\n",
       "  </thead>\n",
       "  <tbody>\n",
       "    <tr>\n",
       "      <th>0</th>\n",
       "      <td>Crana</td>\n",
       "      <td>Tullyarvan</td>\n",
       "      <td>39003-ie</td>\n",
       "    </tr>\n",
       "    <tr>\n",
       "      <th>1</th>\n",
       "      <td>Vichtbach</td>\n",
       "      <td>Mulartshütte</td>\n",
       "      <td>2824450000100-de</td>\n",
       "    </tr>\n",
       "    <tr>\n",
       "      <th>2</th>\n",
       "      <td>Losse</td>\n",
       "      <td>Helsa</td>\n",
       "      <td>42960105-de</td>\n",
       "    </tr>\n",
       "    <tr>\n",
       "      <th>3</th>\n",
       "      <td>Murg</td>\n",
       "      <td>Frauenfeld</td>\n",
       "      <td>2386-ch</td>\n",
       "    </tr>\n",
       "    <tr>\n",
       "      <th>4</th>\n",
       "      <td>Wupper</td>\n",
       "      <td>Glüder</td>\n",
       "      <td>2736731000100-de</td>\n",
       "    </tr>\n",
       "    <tr>\n",
       "      <th>5</th>\n",
       "      <td>Angerbach</td>\n",
       "      <td>Ratingen</td>\n",
       "      <td>2756500000100-de</td>\n",
       "    </tr>\n",
       "  </tbody>\n",
       "</table>\n",
       "</div>"
      ],
      "text/plain": [
       "  water_name  station_name         common_id\n",
       "0      Crana    Tullyarvan          39003-ie\n",
       "1  Vichtbach  Mulartshütte  2824450000100-de\n",
       "2      Losse         Helsa       42960105-de\n",
       "3       Murg    Frauenfeld           2386-ch\n",
       "4     Wupper        Glüder  2736731000100-de\n",
       "5  Angerbach      Ratingen  2756500000100-de"
      ]
     },
     "execution_count": 9,
     "metadata": {},
     "output_type": "execute_result"
    }
   ],
   "source": [
    "stations_df = pd.read_csv('./data/stations.csv')\n",
    "stations_df"
   ]
  },
  {
   "cell_type": "code",
   "execution_count": 11,
   "metadata": {},
   "outputs": [
    {
     "name": "stdout",
     "output_type": "stream",
     "text": [
      "Requesting: 39003-ie\n",
      "Requesting: 2824450000100-de\n",
      "Requesting: 42960105-de\n",
      "Requesting: 2386-ch\n",
      "Requesting: 2736731000100-de\n",
      "Requesting: 2756500000100-de\n"
     ]
    }
   ],
   "source": [
    "# Example to load historic water level height for a specific station\n",
    "loadStartDate = datetime.datetime(2015, 1, 1, 00, 00)\n",
    "loadEndDate = datetime.datetime.now()\n",
    "ts_df_dict = {}\n",
    "for idx, row in stations_df.iterrows():\n",
    "    print(f'Requesting: {row[\"common_id\"]}')\n",
    "    df_raw = baa.query_historic_data(row['common_id'], loadStartDate, loadEndDate, granularity='raw')\n",
    "    tmpEndDate = df_raw['sourceDate'].min()  - np.timedelta64(1, 's')\n",
    "    df_hourly = baa.query_historic_data(row['common_id'], loadStartDate, tmpEndDate, granularity='hour')\n",
    "    ts_df_dict[row['common_id']] = pd.concat([df_raw, df_hourly])"
   ]
  },
  {
   "cell_type": "code",
   "execution_count": 12,
   "metadata": {},
   "outputs": [
    {
     "name": "stdout",
     "output_type": "stream",
     "text": [
      "Saving 39003-ie\n",
      "Saving 2824450000100-de\n",
      "Saving 42960105-de\n",
      "Saving 2386-ch\n",
      "Saving 2736731000100-de\n",
      "Saving 2756500000100-de\n"
     ]
    }
   ],
   "source": [
    "for key, val in ts_df_dict.items():\n",
    "    print(f'Saving {key}')\n",
    "    val.to_csv(f'./data/{key}.csv', index=False)"
   ]
  }
 ],
 "metadata": {
  "interpreter": {
   "hash": "e5dc2a63b9d1c7c44250a45e59a419da17871623bd331719dd90a4acb8bf82df"
  },
  "kernelspec": {
   "display_name": "Python 3.9.2 ('bac')",
   "language": "python",
   "name": "python3"
  },
  "language_info": {
   "codemirror_mode": {
    "name": "ipython",
    "version": 3
   },
   "file_extension": ".py",
   "mimetype": "text/x-python",
   "name": "python",
   "nbconvert_exporter": "python",
   "pygments_lexer": "ipython3",
   "version": "3.9.2"
  },
  "orig_nbformat": 4
 },
 "nbformat": 4,
 "nbformat_minor": 2
}
