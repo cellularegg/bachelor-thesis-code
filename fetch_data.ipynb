{
 "cells": [
  {
   "cell_type": "code",
   "execution_count": 1,
   "metadata": {
    "pycharm": {
     "name": "#%%\n"
    }
   },
   "outputs": [],
   "source": [
    "import pandas as pd\n",
    "from basic_api_access import BasicApiAccess\n",
    "import datetime\n",
    "import os\n",
    "import numpy as np"
   ]
  },
  {
   "cell_type": "code",
   "execution_count": 2,
   "metadata": {
    "pycharm": {
     "name": "#%%\n"
    }
   },
   "outputs": [],
   "source": [
    "username = os.environ['PEGELALARM_USER']\n",
    "password = os.environ['PEGELALARM_PASSWORD']\n",
    "\n",
    "baa = BasicApiAccess(username, password)"
   ]
  },
  {
   "cell_type": "code",
   "execution_count": 36,
   "metadata": {
    "pycharm": {
     "name": "#%%\n"
    }
   },
   "outputs": [
    {
     "data": {
      "text/plain": "      water_name  station_name      outlier_timestamp common_id\n0      Vichtbach  Mulartshütte                    NaN      None\n1          Losse         Helsa                    NaN      None\n2           Murg    Frauenfeld                    NaN      None\n3         Wupper        Glüder                    NaN      None\n4      Angerbach      Ratingen                    NaN      None\n5          Crana    Tullyarvan  2020-07-27 16:00:00.0      None\n6           Sieg      Betzdorf  2021-01-25 14:00:00.0      None\n7        Schmeie       Ebingen  2021-05-27 15:00:00.0      None\n8        Schmeie       Ebingen  2021-05-27 01:00:00.0      None\n9        Schmeie       Ebingen  2021-06-01 04:00:00.0      None\n10  Aghacashlaun  Aghacashlaun  2021-05-30 20:00:00.0      None\n11  Aghacashlaun  Aghacashlaun  2021-05-30 21:00:00.0      None\n12  Aghacashlaun  Aghacashlaun  2021-05-30 22:00:00.0      None\n13  Aghacashlaun  Aghacashlaun  2021-05-25 05:00:00.0      None\n14  Aghacashlaun  Aghacashlaun  2021-05-25 18:00:00.0      None\n15  Aghacashlaun  Aghacashlaun  2021-05-25 22:00:00.0      None\n16  Aghacashlaun  Aghacashlaun  2021-05-25 06:00:00.0      None\n17  Aghacashlaun  Aghacashlaun  2021-05-25 23:00:00.0      None\n18  Aghacashlaun  Aghacashlaun  2021-05-25 07:00:00.0      None\n19  Aghacashlaun  Aghacashlaun  2021-05-25 17:00:00.0      None\n20  Aghacashlaun  Aghacashlaun  2021-05-25 08:00:00.0      None\n21  Aghacashlaun  Aghacashlaun  2021-05-25 15:00:00.0      None\n22  Aghacashlaun  Aghacashlaun  2021-05-25 16:00:00.0      None\n23  Aghacashlaun  Aghacashlaun  2021-05-18 05:00:00.0      None\n24  Aghacashlaun  Aghacashlaun  2021-05-17 08:00:00.0      None\n25  Aghacashlaun  Aghacashlaun  2021-05-16 02:00:00.0      None",
      "text/html": "<div>\n<style scoped>\n    .dataframe tbody tr th:only-of-type {\n        vertical-align: middle;\n    }\n\n    .dataframe tbody tr th {\n        vertical-align: top;\n    }\n\n    .dataframe thead th {\n        text-align: right;\n    }\n</style>\n<table border=\"1\" class=\"dataframe\">\n  <thead>\n    <tr style=\"text-align: right;\">\n      <th></th>\n      <th>water_name</th>\n      <th>station_name</th>\n      <th>outlier_timestamp</th>\n      <th>common_id</th>\n    </tr>\n  </thead>\n  <tbody>\n    <tr>\n      <th>0</th>\n      <td>Vichtbach</td>\n      <td>Mulartshütte</td>\n      <td>NaN</td>\n      <td>None</td>\n    </tr>\n    <tr>\n      <th>1</th>\n      <td>Losse</td>\n      <td>Helsa</td>\n      <td>NaN</td>\n      <td>None</td>\n    </tr>\n    <tr>\n      <th>2</th>\n      <td>Murg</td>\n      <td>Frauenfeld</td>\n      <td>NaN</td>\n      <td>None</td>\n    </tr>\n    <tr>\n      <th>3</th>\n      <td>Wupper</td>\n      <td>Glüder</td>\n      <td>NaN</td>\n      <td>None</td>\n    </tr>\n    <tr>\n      <th>4</th>\n      <td>Angerbach</td>\n      <td>Ratingen</td>\n      <td>NaN</td>\n      <td>None</td>\n    </tr>\n    <tr>\n      <th>5</th>\n      <td>Crana</td>\n      <td>Tullyarvan</td>\n      <td>2020-07-27 16:00:00.0</td>\n      <td>None</td>\n    </tr>\n    <tr>\n      <th>6</th>\n      <td>Sieg</td>\n      <td>Betzdorf</td>\n      <td>2021-01-25 14:00:00.0</td>\n      <td>None</td>\n    </tr>\n    <tr>\n      <th>7</th>\n      <td>Schmeie</td>\n      <td>Ebingen</td>\n      <td>2021-05-27 15:00:00.0</td>\n      <td>None</td>\n    </tr>\n    <tr>\n      <th>8</th>\n      <td>Schmeie</td>\n      <td>Ebingen</td>\n      <td>2021-05-27 01:00:00.0</td>\n      <td>None</td>\n    </tr>\n    <tr>\n      <th>9</th>\n      <td>Schmeie</td>\n      <td>Ebingen</td>\n      <td>2021-06-01 04:00:00.0</td>\n      <td>None</td>\n    </tr>\n    <tr>\n      <th>10</th>\n      <td>Aghacashlaun</td>\n      <td>Aghacashlaun</td>\n      <td>2021-05-30 20:00:00.0</td>\n      <td>None</td>\n    </tr>\n    <tr>\n      <th>11</th>\n      <td>Aghacashlaun</td>\n      <td>Aghacashlaun</td>\n      <td>2021-05-30 21:00:00.0</td>\n      <td>None</td>\n    </tr>\n    <tr>\n      <th>12</th>\n      <td>Aghacashlaun</td>\n      <td>Aghacashlaun</td>\n      <td>2021-05-30 22:00:00.0</td>\n      <td>None</td>\n    </tr>\n    <tr>\n      <th>13</th>\n      <td>Aghacashlaun</td>\n      <td>Aghacashlaun</td>\n      <td>2021-05-25 05:00:00.0</td>\n      <td>None</td>\n    </tr>\n    <tr>\n      <th>14</th>\n      <td>Aghacashlaun</td>\n      <td>Aghacashlaun</td>\n      <td>2021-05-25 18:00:00.0</td>\n      <td>None</td>\n    </tr>\n    <tr>\n      <th>15</th>\n      <td>Aghacashlaun</td>\n      <td>Aghacashlaun</td>\n      <td>2021-05-25 22:00:00.0</td>\n      <td>None</td>\n    </tr>\n    <tr>\n      <th>16</th>\n      <td>Aghacashlaun</td>\n      <td>Aghacashlaun</td>\n      <td>2021-05-25 06:00:00.0</td>\n      <td>None</td>\n    </tr>\n    <tr>\n      <th>17</th>\n      <td>Aghacashlaun</td>\n      <td>Aghacashlaun</td>\n      <td>2021-05-25 23:00:00.0</td>\n      <td>None</td>\n    </tr>\n    <tr>\n      <th>18</th>\n      <td>Aghacashlaun</td>\n      <td>Aghacashlaun</td>\n      <td>2021-05-25 07:00:00.0</td>\n      <td>None</td>\n    </tr>\n    <tr>\n      <th>19</th>\n      <td>Aghacashlaun</td>\n      <td>Aghacashlaun</td>\n      <td>2021-05-25 17:00:00.0</td>\n      <td>None</td>\n    </tr>\n    <tr>\n      <th>20</th>\n      <td>Aghacashlaun</td>\n      <td>Aghacashlaun</td>\n      <td>2021-05-25 08:00:00.0</td>\n      <td>None</td>\n    </tr>\n    <tr>\n      <th>21</th>\n      <td>Aghacashlaun</td>\n      <td>Aghacashlaun</td>\n      <td>2021-05-25 15:00:00.0</td>\n      <td>None</td>\n    </tr>\n    <tr>\n      <th>22</th>\n      <td>Aghacashlaun</td>\n      <td>Aghacashlaun</td>\n      <td>2021-05-25 16:00:00.0</td>\n      <td>None</td>\n    </tr>\n    <tr>\n      <th>23</th>\n      <td>Aghacashlaun</td>\n      <td>Aghacashlaun</td>\n      <td>2021-05-18 05:00:00.0</td>\n      <td>None</td>\n    </tr>\n    <tr>\n      <th>24</th>\n      <td>Aghacashlaun</td>\n      <td>Aghacashlaun</td>\n      <td>2021-05-17 08:00:00.0</td>\n      <td>None</td>\n    </tr>\n    <tr>\n      <th>25</th>\n      <td>Aghacashlaun</td>\n      <td>Aghacashlaun</td>\n      <td>2021-05-16 02:00:00.0</td>\n      <td>None</td>\n    </tr>\n  </tbody>\n</table>\n</div>"
     },
     "execution_count": 36,
     "metadata": {},
     "output_type": "execute_result"
    }
   ],
   "source": [
    "stations_dict = [\n",
    "    {\n",
    "        'water_name': 'Vichtbach',\n",
    "        'station_name': 'Mulartshütte'\n",
    "    }, {\n",
    "        'water_name': 'Losse',\n",
    "        'station_name': 'Helsa'\n",
    "    }, {\n",
    "        'water_name': 'Murg',\n",
    "        'station_name': 'Frauenfeld'\n",
    "    }, {\n",
    "        'water_name': 'Wupper',\n",
    "        'station_name': 'Glüder'\n",
    "    }, {\n",
    "        'water_name': 'Angerbach',\n",
    "        'station_name': 'Ratingen'\n",
    "    }, {\n",
    "        'outlier_timestamp': '2020-07-27 16:00:00.0',\n",
    "        'water_name': 'Crana',\n",
    "        'station_name': 'Tullyarvan'\n",
    "    }, {\n",
    "        'outlier_timestamp': '2021-01-25 14:00:00.0',\n",
    "        'water_name': 'Sieg',\n",
    "        'station_name': 'Betzdorf'\n",
    "    }, {\n",
    "        'outlier_timestamp': '2021-05-27 15:00:00.0',\n",
    "        'water_name': 'Schmeie',\n",
    "        'station_name': 'Ebingen'\n",
    "    }, {\n",
    "        'outlier_timestamp': '2021-05-27 01:00:00.0',\n",
    "        'water_name': 'Schmeie',\n",
    "        'station_name': 'Ebingen'\n",
    "    }, {\n",
    "        'outlier_timestamp': '2021-06-01 04:00:00.0',\n",
    "        'water_name': 'Schmeie',\n",
    "        'station_name': 'Ebingen'\n",
    "    }, {\n",
    "        'outlier_timestamp': '2021-05-30 20:00:00.0',\n",
    "        'water_name': 'Aghacashlaun',\n",
    "        'station_name': 'Aghacashlaun'\n",
    "    }, {\n",
    "        'outlier_timestamp': '2021-05-30 21:00:00.0',\n",
    "        'water_name': 'Aghacashlaun',\n",
    "        'station_name': 'Aghacashlaun'\n",
    "    }, {\n",
    "        'outlier_timestamp': '2021-05-30 22:00:00.0',\n",
    "        'water_name': 'Aghacashlaun',\n",
    "        'station_name': 'Aghacashlaun'\n",
    "    }, {\n",
    "        'outlier_timestamp': '2021-05-25 05:00:00.0',\n",
    "        'water_name': 'Aghacashlaun',\n",
    "        'station_name': 'Aghacashlaun'\n",
    "    }, {\n",
    "        'outlier_timestamp': '2021-05-25 18:00:00.0',\n",
    "        'water_name': 'Aghacashlaun',\n",
    "        'station_name': 'Aghacashlaun'\n",
    "    }, {\n",
    "        'outlier_timestamp': '2021-05-25 22:00:00.0',\n",
    "        'water_name': 'Aghacashlaun',\n",
    "        'station_name': 'Aghacashlaun'\n",
    "    }, {\n",
    "        'outlier_timestamp': '2021-05-25 06:00:00.0',\n",
    "        'water_name': 'Aghacashlaun',\n",
    "        'station_name': 'Aghacashlaun'\n",
    "    }, {\n",
    "        'outlier_timestamp': '2021-05-25 23:00:00.0',\n",
    "        'water_name': 'Aghacashlaun',\n",
    "        'station_name': 'Aghacashlaun'\n",
    "    }, {\n",
    "        'outlier_timestamp': '2021-05-25 07:00:00.0',\n",
    "        'water_name': 'Aghacashlaun',\n",
    "        'station_name': 'Aghacashlaun'\n",
    "    }, {\n",
    "        'outlier_timestamp': '2021-05-25 17:00:00.0',\n",
    "        'water_name': 'Aghacashlaun',\n",
    "        'station_name': 'Aghacashlaun'\n",
    "    }, {\n",
    "        'outlier_timestamp': '2021-05-25 08:00:00.0',\n",
    "        'water_name': 'Aghacashlaun',\n",
    "        'station_name': 'Aghacashlaun'\n",
    "    }, {\n",
    "        'outlier_timestamp': '2021-05-25 15:00:00.0',\n",
    "        'water_name': 'Aghacashlaun',\n",
    "        'station_name': 'Aghacashlaun'\n",
    "    }, {\n",
    "        'outlier_timestamp': '2021-05-25 16:00:00.0',\n",
    "        'water_name': 'Aghacashlaun',\n",
    "        'station_name': 'Aghacashlaun'\n",
    "    }, {\n",
    "        'outlier_timestamp': '2021-05-18 05:00:00.0',\n",
    "        'water_name': 'Aghacashlaun',\n",
    "        'station_name': 'Aghacashlaun'\n",
    "    }, {\n",
    "        'outlier_timestamp': '2021-05-17 08:00:00.0',\n",
    "        'water_name': 'Aghacashlaun',\n",
    "        'station_name': 'Aghacashlaun'\n",
    "    }, {\n",
    "        'outlier_timestamp': '2021-05-16 02:00:00.0',\n",
    "        'water_name': 'Aghacashlaun',\n",
    "        'station_name': 'Aghacashlaun'\n",
    "    }]\n",
    "stations_df = pd.DataFrame.from_dict(stations_dict)\n",
    "stations_df['common_id'] = None\n",
    "stations_df\n"
   ]
  },
  {
   "cell_type": "code",
   "execution_count": 37,
   "metadata": {
    "pycharm": {
     "name": "#%%\n"
    }
   },
   "outputs": [
    {
     "data": {
      "text/plain": "      water_name  station_name      outlier_timestamp         common_id\n0      Vichtbach  Mulartshütte                    NaN  2824450000100-de\n1          Losse         Helsa                    NaN       42960105-de\n2           Murg    Frauenfeld                    NaN           2386-ch\n3         Wupper        Glüder                    NaN  2736731000100-de\n4      Angerbach      Ratingen                    NaN  2756500000100-de\n5          Crana    Tullyarvan  2020-07-27 16:00:00.0          39003-ie\n6           Sieg      Betzdorf  2021-01-25 14:00:00.0     2720050000-de\n7        Schmeie       Ebingen  2021-05-27 15:00:00.0      auto-1003803\n8        Schmeie       Ebingen  2021-05-27 01:00:00.0      auto-1003803\n9        Schmeie       Ebingen  2021-06-01 04:00:00.0      auto-1003803\n10  Aghacashlaun  Aghacashlaun  2021-05-30 20:00:00.0          36022-ie\n11  Aghacashlaun  Aghacashlaun  2021-05-30 21:00:00.0          36022-ie\n12  Aghacashlaun  Aghacashlaun  2021-05-30 22:00:00.0          36022-ie\n13  Aghacashlaun  Aghacashlaun  2021-05-25 05:00:00.0          36022-ie\n14  Aghacashlaun  Aghacashlaun  2021-05-25 18:00:00.0          36022-ie\n15  Aghacashlaun  Aghacashlaun  2021-05-25 22:00:00.0          36022-ie\n16  Aghacashlaun  Aghacashlaun  2021-05-25 06:00:00.0          36022-ie\n17  Aghacashlaun  Aghacashlaun  2021-05-25 23:00:00.0          36022-ie\n18  Aghacashlaun  Aghacashlaun  2021-05-25 07:00:00.0          36022-ie\n19  Aghacashlaun  Aghacashlaun  2021-05-25 17:00:00.0          36022-ie\n20  Aghacashlaun  Aghacashlaun  2021-05-25 08:00:00.0          36022-ie\n21  Aghacashlaun  Aghacashlaun  2021-05-25 15:00:00.0          36022-ie\n22  Aghacashlaun  Aghacashlaun  2021-05-25 16:00:00.0          36022-ie\n23  Aghacashlaun  Aghacashlaun  2021-05-18 05:00:00.0          36022-ie\n24  Aghacashlaun  Aghacashlaun  2021-05-17 08:00:00.0          36022-ie\n25  Aghacashlaun  Aghacashlaun  2021-05-16 02:00:00.0          36022-ie",
      "text/html": "<div>\n<style scoped>\n    .dataframe tbody tr th:only-of-type {\n        vertical-align: middle;\n    }\n\n    .dataframe tbody tr th {\n        vertical-align: top;\n    }\n\n    .dataframe thead th {\n        text-align: right;\n    }\n</style>\n<table border=\"1\" class=\"dataframe\">\n  <thead>\n    <tr style=\"text-align: right;\">\n      <th></th>\n      <th>water_name</th>\n      <th>station_name</th>\n      <th>outlier_timestamp</th>\n      <th>common_id</th>\n    </tr>\n  </thead>\n  <tbody>\n    <tr>\n      <th>0</th>\n      <td>Vichtbach</td>\n      <td>Mulartshütte</td>\n      <td>NaN</td>\n      <td>2824450000100-de</td>\n    </tr>\n    <tr>\n      <th>1</th>\n      <td>Losse</td>\n      <td>Helsa</td>\n      <td>NaN</td>\n      <td>42960105-de</td>\n    </tr>\n    <tr>\n      <th>2</th>\n      <td>Murg</td>\n      <td>Frauenfeld</td>\n      <td>NaN</td>\n      <td>2386-ch</td>\n    </tr>\n    <tr>\n      <th>3</th>\n      <td>Wupper</td>\n      <td>Glüder</td>\n      <td>NaN</td>\n      <td>2736731000100-de</td>\n    </tr>\n    <tr>\n      <th>4</th>\n      <td>Angerbach</td>\n      <td>Ratingen</td>\n      <td>NaN</td>\n      <td>2756500000100-de</td>\n    </tr>\n    <tr>\n      <th>5</th>\n      <td>Crana</td>\n      <td>Tullyarvan</td>\n      <td>2020-07-27 16:00:00.0</td>\n      <td>39003-ie</td>\n    </tr>\n    <tr>\n      <th>6</th>\n      <td>Sieg</td>\n      <td>Betzdorf</td>\n      <td>2021-01-25 14:00:00.0</td>\n      <td>2720050000-de</td>\n    </tr>\n    <tr>\n      <th>7</th>\n      <td>Schmeie</td>\n      <td>Ebingen</td>\n      <td>2021-05-27 15:00:00.0</td>\n      <td>auto-1003803</td>\n    </tr>\n    <tr>\n      <th>8</th>\n      <td>Schmeie</td>\n      <td>Ebingen</td>\n      <td>2021-05-27 01:00:00.0</td>\n      <td>auto-1003803</td>\n    </tr>\n    <tr>\n      <th>9</th>\n      <td>Schmeie</td>\n      <td>Ebingen</td>\n      <td>2021-06-01 04:00:00.0</td>\n      <td>auto-1003803</td>\n    </tr>\n    <tr>\n      <th>10</th>\n      <td>Aghacashlaun</td>\n      <td>Aghacashlaun</td>\n      <td>2021-05-30 20:00:00.0</td>\n      <td>36022-ie</td>\n    </tr>\n    <tr>\n      <th>11</th>\n      <td>Aghacashlaun</td>\n      <td>Aghacashlaun</td>\n      <td>2021-05-30 21:00:00.0</td>\n      <td>36022-ie</td>\n    </tr>\n    <tr>\n      <th>12</th>\n      <td>Aghacashlaun</td>\n      <td>Aghacashlaun</td>\n      <td>2021-05-30 22:00:00.0</td>\n      <td>36022-ie</td>\n    </tr>\n    <tr>\n      <th>13</th>\n      <td>Aghacashlaun</td>\n      <td>Aghacashlaun</td>\n      <td>2021-05-25 05:00:00.0</td>\n      <td>36022-ie</td>\n    </tr>\n    <tr>\n      <th>14</th>\n      <td>Aghacashlaun</td>\n      <td>Aghacashlaun</td>\n      <td>2021-05-25 18:00:00.0</td>\n      <td>36022-ie</td>\n    </tr>\n    <tr>\n      <th>15</th>\n      <td>Aghacashlaun</td>\n      <td>Aghacashlaun</td>\n      <td>2021-05-25 22:00:00.0</td>\n      <td>36022-ie</td>\n    </tr>\n    <tr>\n      <th>16</th>\n      <td>Aghacashlaun</td>\n      <td>Aghacashlaun</td>\n      <td>2021-05-25 06:00:00.0</td>\n      <td>36022-ie</td>\n    </tr>\n    <tr>\n      <th>17</th>\n      <td>Aghacashlaun</td>\n      <td>Aghacashlaun</td>\n      <td>2021-05-25 23:00:00.0</td>\n      <td>36022-ie</td>\n    </tr>\n    <tr>\n      <th>18</th>\n      <td>Aghacashlaun</td>\n      <td>Aghacashlaun</td>\n      <td>2021-05-25 07:00:00.0</td>\n      <td>36022-ie</td>\n    </tr>\n    <tr>\n      <th>19</th>\n      <td>Aghacashlaun</td>\n      <td>Aghacashlaun</td>\n      <td>2021-05-25 17:00:00.0</td>\n      <td>36022-ie</td>\n    </tr>\n    <tr>\n      <th>20</th>\n      <td>Aghacashlaun</td>\n      <td>Aghacashlaun</td>\n      <td>2021-05-25 08:00:00.0</td>\n      <td>36022-ie</td>\n    </tr>\n    <tr>\n      <th>21</th>\n      <td>Aghacashlaun</td>\n      <td>Aghacashlaun</td>\n      <td>2021-05-25 15:00:00.0</td>\n      <td>36022-ie</td>\n    </tr>\n    <tr>\n      <th>22</th>\n      <td>Aghacashlaun</td>\n      <td>Aghacashlaun</td>\n      <td>2021-05-25 16:00:00.0</td>\n      <td>36022-ie</td>\n    </tr>\n    <tr>\n      <th>23</th>\n      <td>Aghacashlaun</td>\n      <td>Aghacashlaun</td>\n      <td>2021-05-18 05:00:00.0</td>\n      <td>36022-ie</td>\n    </tr>\n    <tr>\n      <th>24</th>\n      <td>Aghacashlaun</td>\n      <td>Aghacashlaun</td>\n      <td>2021-05-17 08:00:00.0</td>\n      <td>36022-ie</td>\n    </tr>\n    <tr>\n      <th>25</th>\n      <td>Aghacashlaun</td>\n      <td>Aghacashlaun</td>\n      <td>2021-05-16 02:00:00.0</td>\n      <td>36022-ie</td>\n    </tr>\n  </tbody>\n</table>\n</div>"
     },
     "execution_count": 37,
     "metadata": {},
     "output_type": "execute_result"
    }
   ],
   "source": [
    "for idx, row in stations_df.groupby(['station_name', 'water_name']).any().reset_index().iterrows():\n",
    "    currentStationData = baa.query_current_data(\n",
    "        station_name=row['station_name'], water_name=row['water_name'])\n",
    "    stations_df.loc[(stations_df['station_name'] == row['station_name']) & (stations_df['water_name'] == row['water_name']), 'common_id'] = currentStationData[\"stations\"][0][\"commonid\"]\n",
    "\n",
    "    # stations_df.at[idx, 'common_id'] = currentStationData[\"stations\"][0][\n",
    "    #     \"commonid\"]\n",
    "\n",
    "stations_df.to_csv('./data/stations.csv', index=False)\n",
    "stations_df"
   ]
  },
  {
   "cell_type": "code",
   "execution_count": 38,
   "metadata": {
    "pycharm": {
     "name": "#%%\n"
    }
   },
   "outputs": [
    {
     "data": {
      "text/plain": "      water_name  station_name      outlier_timestamp         common_id\n0      Vichtbach  Mulartshütte                    NaN  2824450000100-de\n1          Losse         Helsa                    NaN       42960105-de\n2           Murg    Frauenfeld                    NaN           2386-ch\n3         Wupper        Glüder                    NaN  2736731000100-de\n4      Angerbach      Ratingen                    NaN  2756500000100-de\n5          Crana    Tullyarvan  2020-07-27 16:00:00.0          39003-ie\n6           Sieg      Betzdorf  2021-01-25 14:00:00.0     2720050000-de\n7        Schmeie       Ebingen  2021-05-27 15:00:00.0      auto-1003803\n8        Schmeie       Ebingen  2021-05-27 01:00:00.0      auto-1003803\n9        Schmeie       Ebingen  2021-06-01 04:00:00.0      auto-1003803\n10  Aghacashlaun  Aghacashlaun  2021-05-30 20:00:00.0          36022-ie\n11  Aghacashlaun  Aghacashlaun  2021-05-30 21:00:00.0          36022-ie\n12  Aghacashlaun  Aghacashlaun  2021-05-30 22:00:00.0          36022-ie\n13  Aghacashlaun  Aghacashlaun  2021-05-25 05:00:00.0          36022-ie\n14  Aghacashlaun  Aghacashlaun  2021-05-25 18:00:00.0          36022-ie\n15  Aghacashlaun  Aghacashlaun  2021-05-25 22:00:00.0          36022-ie\n16  Aghacashlaun  Aghacashlaun  2021-05-25 06:00:00.0          36022-ie\n17  Aghacashlaun  Aghacashlaun  2021-05-25 23:00:00.0          36022-ie\n18  Aghacashlaun  Aghacashlaun  2021-05-25 07:00:00.0          36022-ie\n19  Aghacashlaun  Aghacashlaun  2021-05-25 17:00:00.0          36022-ie\n20  Aghacashlaun  Aghacashlaun  2021-05-25 08:00:00.0          36022-ie\n21  Aghacashlaun  Aghacashlaun  2021-05-25 15:00:00.0          36022-ie\n22  Aghacashlaun  Aghacashlaun  2021-05-25 16:00:00.0          36022-ie\n23  Aghacashlaun  Aghacashlaun  2021-05-18 05:00:00.0          36022-ie\n24  Aghacashlaun  Aghacashlaun  2021-05-17 08:00:00.0          36022-ie\n25  Aghacashlaun  Aghacashlaun  2021-05-16 02:00:00.0          36022-ie",
      "text/html": "<div>\n<style scoped>\n    .dataframe tbody tr th:only-of-type {\n        vertical-align: middle;\n    }\n\n    .dataframe tbody tr th {\n        vertical-align: top;\n    }\n\n    .dataframe thead th {\n        text-align: right;\n    }\n</style>\n<table border=\"1\" class=\"dataframe\">\n  <thead>\n    <tr style=\"text-align: right;\">\n      <th></th>\n      <th>water_name</th>\n      <th>station_name</th>\n      <th>outlier_timestamp</th>\n      <th>common_id</th>\n    </tr>\n  </thead>\n  <tbody>\n    <tr>\n      <th>0</th>\n      <td>Vichtbach</td>\n      <td>Mulartshütte</td>\n      <td>NaN</td>\n      <td>2824450000100-de</td>\n    </tr>\n    <tr>\n      <th>1</th>\n      <td>Losse</td>\n      <td>Helsa</td>\n      <td>NaN</td>\n      <td>42960105-de</td>\n    </tr>\n    <tr>\n      <th>2</th>\n      <td>Murg</td>\n      <td>Frauenfeld</td>\n      <td>NaN</td>\n      <td>2386-ch</td>\n    </tr>\n    <tr>\n      <th>3</th>\n      <td>Wupper</td>\n      <td>Glüder</td>\n      <td>NaN</td>\n      <td>2736731000100-de</td>\n    </tr>\n    <tr>\n      <th>4</th>\n      <td>Angerbach</td>\n      <td>Ratingen</td>\n      <td>NaN</td>\n      <td>2756500000100-de</td>\n    </tr>\n    <tr>\n      <th>5</th>\n      <td>Crana</td>\n      <td>Tullyarvan</td>\n      <td>2020-07-27 16:00:00.0</td>\n      <td>39003-ie</td>\n    </tr>\n    <tr>\n      <th>6</th>\n      <td>Sieg</td>\n      <td>Betzdorf</td>\n      <td>2021-01-25 14:00:00.0</td>\n      <td>2720050000-de</td>\n    </tr>\n    <tr>\n      <th>7</th>\n      <td>Schmeie</td>\n      <td>Ebingen</td>\n      <td>2021-05-27 15:00:00.0</td>\n      <td>auto-1003803</td>\n    </tr>\n    <tr>\n      <th>8</th>\n      <td>Schmeie</td>\n      <td>Ebingen</td>\n      <td>2021-05-27 01:00:00.0</td>\n      <td>auto-1003803</td>\n    </tr>\n    <tr>\n      <th>9</th>\n      <td>Schmeie</td>\n      <td>Ebingen</td>\n      <td>2021-06-01 04:00:00.0</td>\n      <td>auto-1003803</td>\n    </tr>\n    <tr>\n      <th>10</th>\n      <td>Aghacashlaun</td>\n      <td>Aghacashlaun</td>\n      <td>2021-05-30 20:00:00.0</td>\n      <td>36022-ie</td>\n    </tr>\n    <tr>\n      <th>11</th>\n      <td>Aghacashlaun</td>\n      <td>Aghacashlaun</td>\n      <td>2021-05-30 21:00:00.0</td>\n      <td>36022-ie</td>\n    </tr>\n    <tr>\n      <th>12</th>\n      <td>Aghacashlaun</td>\n      <td>Aghacashlaun</td>\n      <td>2021-05-30 22:00:00.0</td>\n      <td>36022-ie</td>\n    </tr>\n    <tr>\n      <th>13</th>\n      <td>Aghacashlaun</td>\n      <td>Aghacashlaun</td>\n      <td>2021-05-25 05:00:00.0</td>\n      <td>36022-ie</td>\n    </tr>\n    <tr>\n      <th>14</th>\n      <td>Aghacashlaun</td>\n      <td>Aghacashlaun</td>\n      <td>2021-05-25 18:00:00.0</td>\n      <td>36022-ie</td>\n    </tr>\n    <tr>\n      <th>15</th>\n      <td>Aghacashlaun</td>\n      <td>Aghacashlaun</td>\n      <td>2021-05-25 22:00:00.0</td>\n      <td>36022-ie</td>\n    </tr>\n    <tr>\n      <th>16</th>\n      <td>Aghacashlaun</td>\n      <td>Aghacashlaun</td>\n      <td>2021-05-25 06:00:00.0</td>\n      <td>36022-ie</td>\n    </tr>\n    <tr>\n      <th>17</th>\n      <td>Aghacashlaun</td>\n      <td>Aghacashlaun</td>\n      <td>2021-05-25 23:00:00.0</td>\n      <td>36022-ie</td>\n    </tr>\n    <tr>\n      <th>18</th>\n      <td>Aghacashlaun</td>\n      <td>Aghacashlaun</td>\n      <td>2021-05-25 07:00:00.0</td>\n      <td>36022-ie</td>\n    </tr>\n    <tr>\n      <th>19</th>\n      <td>Aghacashlaun</td>\n      <td>Aghacashlaun</td>\n      <td>2021-05-25 17:00:00.0</td>\n      <td>36022-ie</td>\n    </tr>\n    <tr>\n      <th>20</th>\n      <td>Aghacashlaun</td>\n      <td>Aghacashlaun</td>\n      <td>2021-05-25 08:00:00.0</td>\n      <td>36022-ie</td>\n    </tr>\n    <tr>\n      <th>21</th>\n      <td>Aghacashlaun</td>\n      <td>Aghacashlaun</td>\n      <td>2021-05-25 15:00:00.0</td>\n      <td>36022-ie</td>\n    </tr>\n    <tr>\n      <th>22</th>\n      <td>Aghacashlaun</td>\n      <td>Aghacashlaun</td>\n      <td>2021-05-25 16:00:00.0</td>\n      <td>36022-ie</td>\n    </tr>\n    <tr>\n      <th>23</th>\n      <td>Aghacashlaun</td>\n      <td>Aghacashlaun</td>\n      <td>2021-05-18 05:00:00.0</td>\n      <td>36022-ie</td>\n    </tr>\n    <tr>\n      <th>24</th>\n      <td>Aghacashlaun</td>\n      <td>Aghacashlaun</td>\n      <td>2021-05-17 08:00:00.0</td>\n      <td>36022-ie</td>\n    </tr>\n    <tr>\n      <th>25</th>\n      <td>Aghacashlaun</td>\n      <td>Aghacashlaun</td>\n      <td>2021-05-16 02:00:00.0</td>\n      <td>36022-ie</td>\n    </tr>\n  </tbody>\n</table>\n</div>"
     },
     "execution_count": 38,
     "metadata": {},
     "output_type": "execute_result"
    }
   ],
   "source": [
    "stations_df = pd.read_csv('./data/stations.csv')\n",
    "stations_df"
   ]
  },
  {
   "cell_type": "code",
   "execution_count": 30,
   "metadata": {
    "pycharm": {
     "name": "#%%\n"
    }
   },
   "outputs": [
    {
     "name": "stdout",
     "output_type": "stream",
     "text": [
      "Requesting: 2824450000100-de\n",
      "raw shape: (4114, 2)\n",
      "hourly shape: (49895, 2)\n",
      "Requesting: 42960105-de\n",
      "raw shape: (3290, 2)\n",
      "hourly shape: (47726, 2)\n",
      "Requesting: 2386-ch\n",
      "raw shape: (3469, 2)\n",
      "hourly shape: (47107, 2)\n",
      "Requesting: 2736731000100-de\n",
      "raw shape: (4036, 2)\n",
      "hourly shape: (47625, 2)\n",
      "Requesting: 2756500000100-de\n",
      "raw shape: (4195, 2)\n",
      "hourly shape: (47968, 2)\n",
      "Requesting: 39003-ie\n",
      "raw shape: (6383, 2)\n",
      "hourly shape: (21418, 2)\n",
      "Requesting: 2720050000-de\n",
      "raw shape: (2160, 2)\n",
      "hourly shape: (47362, 2)\n",
      "Requesting: auto-1003803\n",
      "raw shape: (8003, 2)\n",
      "hourly shape: (43691, 2)\n",
      "Requesting: 36022-ie\n",
      "raw shape: (6368, 2)\n",
      "hourly shape: (20821, 2)\n"
     ]
    }
   ],
   "source": [
    "loadStartDate = datetime.datetime(2015, 1, 1, 0, 0)\n",
    "loadEndDate = datetime.datetime.now()\n",
    "ts_df_dict = {}\n",
    "for common_id in stations_df['common_id'].unique():\n",
    "    print(f'Requesting: {common_id}')\n",
    "    df_raw = baa.query_historic_data(common_id, loadStartDate, loadEndDate, granularity='raw')\n",
    "    print(f'raw shape: {df_raw.shape}')\n",
    "    tmpEndDate = df_raw['sourceDate'].min()  - np.timedelta64(1, 's')\n",
    "    df_hourly = baa.query_historic_data(common_id, loadStartDate, tmpEndDate, granularity='hour')\n",
    "    print(f'hourly shape: {df_hourly.shape}')\n",
    "    ts_df_dict[common_id] = pd.concat([df_raw, df_hourly])"
   ]
  },
  {
   "cell_type": "code",
   "execution_count": 31,
   "metadata": {
    "pycharm": {
     "name": "#%%\n"
    }
   },
   "outputs": [
    {
     "name": "stdout",
     "output_type": "stream",
     "text": [
      "Saving 2824450000100-de\n",
      "Saving 42960105-de\n",
      "Saving 2386-ch\n",
      "Saving 2736731000100-de\n",
      "Saving 2756500000100-de\n",
      "Saving 39003-ie\n",
      "Saving 2720050000-de\n",
      "Saving auto-1003803\n",
      "Saving 36022-ie\n"
     ]
    }
   ],
   "source": [
    "for key, val in ts_df_dict.items():\n",
    "    print(f'Saving {key}')\n",
    "    val.to_csv(f'./data/raw/csv/{key}.csv', index=False)"
   ]
  },
  {
   "cell_type": "code",
   "execution_count": 32,
   "metadata": {
    "pycharm": {
     "name": "#%%\n"
    }
   },
   "outputs": [
    {
     "name": "stdout",
     "output_type": "stream",
     "text": [
      "Saving 2824450000100-de\n",
      "Saving 42960105-de\n",
      "Saving 2386-ch\n",
      "Saving 2736731000100-de\n",
      "Saving 2756500000100-de\n",
      "Saving 39003-ie\n",
      "Saving 2720050000-de\n",
      "Saving auto-1003803\n",
      "Saving 36022-ie\n"
     ]
    }
   ],
   "source": [
    "for key, val in ts_df_dict.items():\n",
    "    print(f'Saving {key}')\n",
    "    val['sourceDate'] = pd.to_datetime(val['sourceDate'], utc=True)\n",
    "    val.sort_values('sourceDate', inplace=True)\n",
    "    val.reset_index(inplace=True, drop=True)\n",
    "    val.to_parquet(f'./data/raw/parquet/{key}.parquet')"
   ]
  },
  {
   "cell_type": "code",
   "execution_count": 33,
   "outputs": [],
   "source": [
    "combined_df = None\n",
    "for key, val in ts_df_dict.items():\n",
    "    val['common_id'] = key\n",
    "    if combined_df is None:\n",
    "        combined_df = val\n",
    "    else:\n",
    "        combined_df = pd.concat([combined_df, val])\n",
    "combined_df.reset_index(inplace=True, drop=True)\n"
   ],
   "metadata": {
    "collapsed": false,
    "pycharm": {
     "name": "#%%\n"
    }
   }
  },
  {
   "cell_type": "code",
   "execution_count": 34,
   "outputs": [],
   "source": [
    "combined_df.to_parquet('./data/raw/parquet/combined.parquet', index=False)"
   ],
   "metadata": {
    "collapsed": false,
    "pycharm": {
     "name": "#%%\n"
    }
   }
  },
  {
   "cell_type": "code",
   "execution_count": 35,
   "outputs": [
    {
     "data": {
      "text/plain": "        value                sourceDate         common_id\n0        19.5 2015-10-30 08:00:00+00:00  2824450000100-de\n1        19.1 2015-11-02 08:00:00+00:00  2824450000100-de\n2        19.1 2015-11-02 09:00:00+00:00  2824450000100-de\n3        19.1 2015-11-02 10:00:00+00:00  2824450000100-de\n4        19.1 2015-11-02 11:00:00+00:00  2824450000100-de\n...       ...                       ...               ...\n415626   22.1 2022-04-02 12:15:00+00:00          36022-ie\n415627   22.6 2022-04-02 12:45:00+00:00          36022-ie\n415628   22.3 2022-04-02 13:15:00+00:00          36022-ie\n415629   22.4 2022-04-02 13:45:00+00:00          36022-ie\n415630   22.8 2022-04-02 14:00:00+00:00          36022-ie\n\n[415631 rows x 3 columns]",
      "text/html": "<div>\n<style scoped>\n    .dataframe tbody tr th:only-of-type {\n        vertical-align: middle;\n    }\n\n    .dataframe tbody tr th {\n        vertical-align: top;\n    }\n\n    .dataframe thead th {\n        text-align: right;\n    }\n</style>\n<table border=\"1\" class=\"dataframe\">\n  <thead>\n    <tr style=\"text-align: right;\">\n      <th></th>\n      <th>value</th>\n      <th>sourceDate</th>\n      <th>common_id</th>\n    </tr>\n  </thead>\n  <tbody>\n    <tr>\n      <th>0</th>\n      <td>19.5</td>\n      <td>2015-10-30 08:00:00+00:00</td>\n      <td>2824450000100-de</td>\n    </tr>\n    <tr>\n      <th>1</th>\n      <td>19.1</td>\n      <td>2015-11-02 08:00:00+00:00</td>\n      <td>2824450000100-de</td>\n    </tr>\n    <tr>\n      <th>2</th>\n      <td>19.1</td>\n      <td>2015-11-02 09:00:00+00:00</td>\n      <td>2824450000100-de</td>\n    </tr>\n    <tr>\n      <th>3</th>\n      <td>19.1</td>\n      <td>2015-11-02 10:00:00+00:00</td>\n      <td>2824450000100-de</td>\n    </tr>\n    <tr>\n      <th>4</th>\n      <td>19.1</td>\n      <td>2015-11-02 11:00:00+00:00</td>\n      <td>2824450000100-de</td>\n    </tr>\n    <tr>\n      <th>...</th>\n      <td>...</td>\n      <td>...</td>\n      <td>...</td>\n    </tr>\n    <tr>\n      <th>415626</th>\n      <td>22.1</td>\n      <td>2022-04-02 12:15:00+00:00</td>\n      <td>36022-ie</td>\n    </tr>\n    <tr>\n      <th>415627</th>\n      <td>22.6</td>\n      <td>2022-04-02 12:45:00+00:00</td>\n      <td>36022-ie</td>\n    </tr>\n    <tr>\n      <th>415628</th>\n      <td>22.3</td>\n      <td>2022-04-02 13:15:00+00:00</td>\n      <td>36022-ie</td>\n    </tr>\n    <tr>\n      <th>415629</th>\n      <td>22.4</td>\n      <td>2022-04-02 13:45:00+00:00</td>\n      <td>36022-ie</td>\n    </tr>\n    <tr>\n      <th>415630</th>\n      <td>22.8</td>\n      <td>2022-04-02 14:00:00+00:00</td>\n      <td>36022-ie</td>\n    </tr>\n  </tbody>\n</table>\n<p>415631 rows × 3 columns</p>\n</div>"
     },
     "execution_count": 35,
     "metadata": {},
     "output_type": "execute_result"
    }
   ],
   "source": [
    "combined_df"
   ],
   "metadata": {
    "collapsed": false,
    "pycharm": {
     "name": "#%%\n"
    }
   }
  }
 ],
 "metadata": {
  "interpreter": {
   "hash": "e5dc2a63b9d1c7c44250a45e59a419da17871623bd331719dd90a4acb8bf82df"
  },
  "kernelspec": {
   "display_name": "Python 3.9.2 ('bac')",
   "language": "python",
   "name": "python3"
  },
  "language_info": {
   "codemirror_mode": {
    "name": "ipython",
    "version": 3
   },
   "file_extension": ".py",
   "mimetype": "text/x-python",
   "name": "python",
   "nbconvert_exporter": "python",
   "pygments_lexer": "ipython3",
   "version": "3.9.2"
  },
  "orig_nbformat": 4
 },
 "nbformat": 4,
 "nbformat_minor": 2
}