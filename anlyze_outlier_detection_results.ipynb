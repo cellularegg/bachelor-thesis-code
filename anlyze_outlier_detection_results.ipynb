{
 "cells": [
  {
   "cell_type": "code",
   "execution_count": 38,
   "metadata": {
    "collapsed": true,
    "pycharm": {
     "name": "#%%\n"
    }
   },
   "outputs": [],
   "source": [
    "\n",
    "from tqdm.notebook import tqdm\n",
    "import matplotlib.pyplot as plt\n",
    "import numpy as np\n",
    "import pandas as pd\n",
    "# from IPython.core.display_functions import display\n",
    "import sklearn.metrics as metrics\n",
    "import multiprocessing as mp\n",
    "\n",
    "random_seed = 1\n",
    "np.random.seed(random_seed)\n"
   ]
  },
  {
   "cell_type": "code",
   "execution_count": 39,
   "outputs": [],
   "source": [
    "plt.style.use('seaborn-colorblind')\n",
    "\n",
    "# from https://jwalton.info/Embed-Publication-Matplotlib-Latex/\n",
    "tex_fonts = {\n",
    "    # Use LaTeX to write all text\n",
    "    \"text.usetex\": True,\n",
    "    \"font.family\": \"serif\",\n",
    "    # Use 11pt font in plots, to match 11pt font in document\n",
    "    \"axes.labelsize\": 11,\n",
    "    \"font.size\": 11\n",
    "}\n",
    "plt.rcParams.update(tex_fonts)\n",
    "# tex_plots_path = f'../bachelor-thesis/plots/pdfs/{common_id}/'\n"
   ],
   "metadata": {
    "collapsed": false,
    "pycharm": {
     "name": "#%%\n"
    }
   }
  },
  {
   "cell_type": "code",
   "execution_count": 40,
   "outputs": [],
   "source": [
    "import glob\n",
    "\n",
    "file_list = glob.glob('./data/predictions/raw/**/*.parquet', recursive=True)\n",
    "\n",
    "predictions = []\n",
    "\n",
    "for fp in file_list:\n",
    "    file_name = fp.split('/')[-1]\n",
    "    metadata = file_name.split('_')\n",
    "    # remove .parquet\n",
    "    metadata = [m.split('.')[0] for m in metadata]\n",
    "    # df = pd.read_parquet(fp)\n",
    "    metadata_dict = {\n",
    "        'file_path': fp,\n",
    "        'normalized': fp.split('/')[-3] == 'normalized',\n",
    "        'window_size': None if metadata[0] == 'None' else int(metadata[0]),\n",
    "        'center_window': metadata[1] == 'cw',\n",
    "        'model_type': metadata[2],\n",
    "        'common_id': fp.split('/')[-2]\n",
    "    }\n",
    "    predictions.append(metadata_dict)\n",
    "    # print(fp.split('/'))\n",
    "    # break"
   ],
   "metadata": {
    "collapsed": false,
    "pycharm": {
     "name": "#%%\n"
    }
   }
  },
  {
   "cell_type": "code",
   "execution_count": 41,
   "outputs": [
    {
     "data": {
      "text/plain": "5880"
     },
     "execution_count": 41,
     "metadata": {},
     "output_type": "execute_result"
    }
   ],
   "source": [
    "len(predictions)\n"
   ],
   "metadata": {
    "collapsed": false,
    "pycharm": {
     "name": "#%%\n"
    }
   }
  },
  {
   "cell_type": "code",
   "execution_count": 42,
   "outputs": [],
   "source": [
    "def get_prediction_summary(metadata_dict):\n",
    "    predictions_summary = []\n",
    "    pred_df = pd.read_parquet(metadata_dict['file_path'])\n",
    "    threshold_min = 1\n",
    "    threshold_max = 100\n",
    "    threshold_steps = 300\n",
    "    thresholds = np.linspace(threshold_min, threshold_max, threshold_steps)\n",
    "    y_true = pred_df['is_outlier'].astype(int).to_numpy()\n",
    "    m = pred_df['m'].to_numpy()\n",
    "    for threshold in thresholds:\n",
    "        y_pred = np.where(m > threshold, 1, 0)\n",
    "        tn, fp, fn, tp = metrics.confusion_matrix(y_true, y_pred).ravel()\n",
    "        f1_score = metrics.f1_score(y_true, y_pred, zero_division=0)\n",
    "\n",
    "        predictions_summary.append({\n",
    "            'common_id': metadata_dict['common_id'],\n",
    "            'window_size': metadata_dict['window_size'],\n",
    "            'center_window': metadata_dict['center_window'],\n",
    "            'model_type': metadata_dict['model_type'],\n",
    "            'normalized': metadata_dict['normalized'],\n",
    "            'threshold': threshold,\n",
    "            'f1_score': f1_score,\n",
    "            'tn': tn,\n",
    "            'fp': fp,\n",
    "            'fn': fn,\n",
    "            'tp': tp,\n",
    "        })\n",
    "    return predictions_summary\n",
    "# predictions_summary_df = pd.DataFrame(predictions_summary)\n",
    "# predictions_summary_df.info()"
   ],
   "metadata": {
    "collapsed": false,
    "pycharm": {
     "name": "#%%\n"
    }
   }
  },
  {
   "cell_type": "code",
   "execution_count": 43,
   "outputs": [],
   "source": [
    "with mp.Pool(processes=10) as executor:\n",
    "    results = executor.map(get_prediction_summary, predictions)\n",
    "    result_lst = [item for sublist in results for item in sublist]\n"
   ],
   "metadata": {
    "collapsed": false,
    "pycharm": {
     "name": "#%%\n"
    }
   }
  },
  {
   "cell_type": "code",
   "execution_count": 44,
   "outputs": [],
   "source": [
    "predictions_summary_df = pd.DataFrame(result_lst)"
   ],
   "metadata": {
    "collapsed": false,
    "pycharm": {
     "name": "#%%\n"
    }
   }
  },
  {
   "cell_type": "code",
   "execution_count": 45,
   "outputs": [
    {
     "data": {
      "text/plain": "          common_id  window_size  center_window     model_type  normalized  \\\n0           2386-ch          2.0          False    mad-z-score       False   \n1           2386-ch         27.0           True  delta-z-score       False   \n2           2386-ch         16.0          False    mad-z-score       False   \n3           2386-ch          9.0          False           mean       False   \n4           2386-ch          6.0           True        z-score       False   \n...             ...          ...            ...            ...         ...   \n5875  2720050000-de          9.0          False         median        True   \n5876  2720050000-de         13.0           True    mad-z-score        True   \n5877  2720050000-de         11.0          False        z-score        True   \n5878  2720050000-de         40.0           True           mean        True   \n5879  2720050000-de         31.0          False        z-score        True   \n\n      threshold  f1_score     tn     fp  fn  tp  \n0           1.0  0.023202  42390   8080   3  96  \n1           1.0  0.009620  30292  20178   1  98  \n2           1.0  0.003908      0  50470   0  99  \n3           1.0  0.018554  40210  10260   2  97  \n4           1.0  0.015164  43108   7362  42  57  \n...         ...       ...    ...    ...  ..  ..  \n5875        1.0  0.428571  49445      5  43  18  \n5876        1.0  0.039978  47697   1753  24  37  \n5877        1.0  0.006270  46331   3119  51  10  \n5878        1.0  0.038147  48431   1019  40  21  \n5879        1.0  0.003550  41076   8374  46  15  \n\n[5880 rows x 11 columns]",
      "text/html": "<div>\n<style scoped>\n    .dataframe tbody tr th:only-of-type {\n        vertical-align: middle;\n    }\n\n    .dataframe tbody tr th {\n        vertical-align: top;\n    }\n\n    .dataframe thead th {\n        text-align: right;\n    }\n</style>\n<table border=\"1\" class=\"dataframe\">\n  <thead>\n    <tr style=\"text-align: right;\">\n      <th></th>\n      <th>common_id</th>\n      <th>window_size</th>\n      <th>center_window</th>\n      <th>model_type</th>\n      <th>normalized</th>\n      <th>threshold</th>\n      <th>f1_score</th>\n      <th>tn</th>\n      <th>fp</th>\n      <th>fn</th>\n      <th>tp</th>\n    </tr>\n  </thead>\n  <tbody>\n    <tr>\n      <th>0</th>\n      <td>2386-ch</td>\n      <td>2.0</td>\n      <td>False</td>\n      <td>mad-z-score</td>\n      <td>False</td>\n      <td>1.0</td>\n      <td>0.023202</td>\n      <td>42390</td>\n      <td>8080</td>\n      <td>3</td>\n      <td>96</td>\n    </tr>\n    <tr>\n      <th>1</th>\n      <td>2386-ch</td>\n      <td>27.0</td>\n      <td>True</td>\n      <td>delta-z-score</td>\n      <td>False</td>\n      <td>1.0</td>\n      <td>0.009620</td>\n      <td>30292</td>\n      <td>20178</td>\n      <td>1</td>\n      <td>98</td>\n    </tr>\n    <tr>\n      <th>2</th>\n      <td>2386-ch</td>\n      <td>16.0</td>\n      <td>False</td>\n      <td>mad-z-score</td>\n      <td>False</td>\n      <td>1.0</td>\n      <td>0.003908</td>\n      <td>0</td>\n      <td>50470</td>\n      <td>0</td>\n      <td>99</td>\n    </tr>\n    <tr>\n      <th>3</th>\n      <td>2386-ch</td>\n      <td>9.0</td>\n      <td>False</td>\n      <td>mean</td>\n      <td>False</td>\n      <td>1.0</td>\n      <td>0.018554</td>\n      <td>40210</td>\n      <td>10260</td>\n      <td>2</td>\n      <td>97</td>\n    </tr>\n    <tr>\n      <th>4</th>\n      <td>2386-ch</td>\n      <td>6.0</td>\n      <td>True</td>\n      <td>z-score</td>\n      <td>False</td>\n      <td>1.0</td>\n      <td>0.015164</td>\n      <td>43108</td>\n      <td>7362</td>\n      <td>42</td>\n      <td>57</td>\n    </tr>\n    <tr>\n      <th>...</th>\n      <td>...</td>\n      <td>...</td>\n      <td>...</td>\n      <td>...</td>\n      <td>...</td>\n      <td>...</td>\n      <td>...</td>\n      <td>...</td>\n      <td>...</td>\n      <td>...</td>\n      <td>...</td>\n    </tr>\n    <tr>\n      <th>5875</th>\n      <td>2720050000-de</td>\n      <td>9.0</td>\n      <td>False</td>\n      <td>median</td>\n      <td>True</td>\n      <td>1.0</td>\n      <td>0.428571</td>\n      <td>49445</td>\n      <td>5</td>\n      <td>43</td>\n      <td>18</td>\n    </tr>\n    <tr>\n      <th>5876</th>\n      <td>2720050000-de</td>\n      <td>13.0</td>\n      <td>True</td>\n      <td>mad-z-score</td>\n      <td>True</td>\n      <td>1.0</td>\n      <td>0.039978</td>\n      <td>47697</td>\n      <td>1753</td>\n      <td>24</td>\n      <td>37</td>\n    </tr>\n    <tr>\n      <th>5877</th>\n      <td>2720050000-de</td>\n      <td>11.0</td>\n      <td>False</td>\n      <td>z-score</td>\n      <td>True</td>\n      <td>1.0</td>\n      <td>0.006270</td>\n      <td>46331</td>\n      <td>3119</td>\n      <td>51</td>\n      <td>10</td>\n    </tr>\n    <tr>\n      <th>5878</th>\n      <td>2720050000-de</td>\n      <td>40.0</td>\n      <td>True</td>\n      <td>mean</td>\n      <td>True</td>\n      <td>1.0</td>\n      <td>0.038147</td>\n      <td>48431</td>\n      <td>1019</td>\n      <td>40</td>\n      <td>21</td>\n    </tr>\n    <tr>\n      <th>5879</th>\n      <td>2720050000-de</td>\n      <td>31.0</td>\n      <td>False</td>\n      <td>z-score</td>\n      <td>True</td>\n      <td>1.0</td>\n      <td>0.003550</td>\n      <td>41076</td>\n      <td>8374</td>\n      <td>46</td>\n      <td>15</td>\n    </tr>\n  </tbody>\n</table>\n<p>5880 rows × 11 columns</p>\n</div>"
     },
     "execution_count": 45,
     "metadata": {},
     "output_type": "execute_result"
    }
   ],
   "source": [
    "predictions_summary_df"
   ],
   "metadata": {
    "collapsed": false,
    "pycharm": {
     "name": "#%%\n"
    }
   }
  },
  {
   "cell_type": "code",
   "execution_count": 46,
   "outputs": [
    {
     "name": "stdout",
     "output_type": "stream",
     "text": [
      "<class 'pandas.core.frame.DataFrame'>\n",
      "RangeIndex: 5880 entries, 0 to 5879\n",
      "Data columns (total 11 columns):\n",
      " #   Column         Non-Null Count  Dtype  \n",
      "---  ------         --------------  -----  \n",
      " 0   common_id      5880 non-null   object \n",
      " 1   window_size    5760 non-null   float64\n",
      " 2   center_window  5880 non-null   bool   \n",
      " 3   model_type     5880 non-null   object \n",
      " 4   normalized     5880 non-null   bool   \n",
      " 5   threshold      5880 non-null   float64\n",
      " 6   f1_score       5880 non-null   float64\n",
      " 7   tn             5880 non-null   int64  \n",
      " 8   fp             5880 non-null   int64  \n",
      " 9   fn             5880 non-null   int64  \n",
      " 10  tp             5880 non-null   int64  \n",
      "dtypes: bool(2), float64(3), int64(4), object(2)\n",
      "memory usage: 425.0+ KB\n"
     ]
    }
   ],
   "source": [
    "predictions_summary_df.info()"
   ],
   "metadata": {
    "collapsed": false,
    "pycharm": {
     "name": "#%%\n"
    }
   }
  },
  {
   "cell_type": "code",
   "execution_count": 47,
   "outputs": [],
   "source": [
    "predictions_summary_df.to_parquet(f'./data/predictions/predictions_summary.parquet')"
   ],
   "metadata": {
    "collapsed": false,
    "pycharm": {
     "name": "#%%\n"
    }
   }
  }
 ],
 "metadata": {
  "kernelspec": {
   "display_name": "Python 3",
   "language": "python",
   "name": "python3"
  },
  "language_info": {
   "codemirror_mode": {
    "name": "ipython",
    "version": 2
   },
   "file_extension": ".py",
   "mimetype": "text/x-python",
   "name": "python",
   "nbconvert_exporter": "python",
   "pygments_lexer": "ipython2",
   "version": "2.7.6"
  }
 },
 "nbformat": 4,
 "nbformat_minor": 0
}